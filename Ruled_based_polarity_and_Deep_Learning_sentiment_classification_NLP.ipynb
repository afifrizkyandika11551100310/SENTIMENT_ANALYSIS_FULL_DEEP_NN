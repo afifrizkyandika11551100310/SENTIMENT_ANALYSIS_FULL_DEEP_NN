{
  "cells": [
    {
      "cell_type": "markdown",
      "metadata": {
        "id": "view-in-github",
        "colab_type": "text"
      },
      "source": [
        "<a href=\"https://colab.research.google.com/github/afifrizkyandika11551100310/SENTIMENT_ANALYSIS_FULL_DEEP_NN/blob/main/Ruled_based_polarity_and_Deep_Learning_sentiment_classification_NLP.ipynb\" target=\"_parent\"><img src=\"https://colab.research.google.com/assets/colab-badge.svg\" alt=\"Open In Colab\"/></a>"
      ]
    },
    {
      "cell_type": "markdown",
      "metadata": {
        "id": "kRMNo1dv3OrS"
      },
      "source": [
        "## 1. Importing Packages"
      ]
    },
    {
      "cell_type": "code",
      "execution_count": null,
      "metadata": {
        "id": "Vk5D2Ws400iW",
        "colab": {
          "base_uri": "https://localhost:8080/"
        },
        "outputId": "b2d1db3c-31e5-4310-ac6b-71cb3ad631d7"
      },
      "outputs": [
        {
          "output_type": "stream",
          "name": "stdout",
          "text": [
            "[nltk_data] Downloading package vader_lexicon to /root/nltk_data...\n",
            "[nltk_data]   Package vader_lexicon is already up-to-date!\n"
          ]
        }
      ],
      "source": [
        "import pandas as pd\n",
        "import numpy as np\n",
        "import re\n",
        "import plotly.graph_objects as go\n",
        "import pandas as pd\n",
        "import nltk\n",
        "import textblob\n",
        "import ast\n",
        "import plotly.express as px\n",
        "from nltk.stem import WordNetLemmatizer\n",
        "from nltk.corpus import stopwords \n",
        "from nltk.tokenize import word_tokenize \n",
        "from sklearn.cluster import MiniBatchKMeans\n",
        "from sklearn.preprocessing import LabelEncoder\n",
        "from keras.preprocessing import sequence\n",
        "from keras.preprocessing.text import Tokenizer\n",
        "from sklearn.metrics import accuracy_score, f1_score, precision_score, recall_score, classification_report, confusion_matrix\n",
        "nltk.download('vader_lexicon')\n",
        "from sklearn.feature_extraction.text import TfidfVectorizer\n",
        "from sklearn.decomposition import PCA\n",
        "from sklearn.manifold import TSNE\n",
        "from keras import Sequential\n",
        "from keras import models\n",
        "from keras import layers\n",
        "from keras import regularizers\n",
        "from keras.preprocessing.sequence import pad_sequences\n",
        "import tensorflow as tf\n",
        "from keras.layers import Dense, Embedding, LSTM, SpatialDropout1D, Flatten, Bidirectional, Dropout, Conv1D, GlobalMaxPooling1D, GRU, MaxPooling1D\n",
        "import matplotlib.pyplot as plt\n",
        "import matplotlib.cm as cm\n",
        "from nltk.sentiment.vader import SentimentIntensityAnalyzer as vad"
      ]
    },
    {
      "cell_type": "code",
      "source": [
        "nltk.download('punkt')"
      ],
      "metadata": {
        "colab": {
          "base_uri": "https://localhost:8080/"
        },
        "id": "SbO2J0CAhgn-",
        "outputId": "2df6ece2-31e9-463d-e22e-d8459f8e86c3"
      },
      "execution_count": null,
      "outputs": [
        {
          "output_type": "stream",
          "name": "stdout",
          "text": [
            "[nltk_data] Downloading package punkt to /root/nltk_data...\n",
            "[nltk_data]   Unzipping tokenizers/punkt.zip.\n"
          ]
        },
        {
          "output_type": "execute_result",
          "data": {
            "text/plain": [
              "True"
            ]
          },
          "metadata": {},
          "execution_count": 2
        }
      ]
    },
    {
      "cell_type": "code",
      "source": [
        "nltk.download('stopwords')"
      ],
      "metadata": {
        "colab": {
          "base_uri": "https://localhost:8080/"
        },
        "id": "7VLBqfs73ALo",
        "outputId": "3a21efe0-9a34-4981-81e0-e811e8c3f110"
      },
      "execution_count": null,
      "outputs": [
        {
          "output_type": "stream",
          "name": "stdout",
          "text": [
            "[nltk_data] Downloading package stopwords to /root/nltk_data...\n",
            "[nltk_data]   Unzipping corpora/stopwords.zip.\n"
          ]
        },
        {
          "output_type": "execute_result",
          "data": {
            "text/plain": [
              "True"
            ]
          },
          "metadata": {},
          "execution_count": 3
        }
      ]
    },
    {
      "cell_type": "code",
      "source": [
        "pip install pyspellchecker"
      ],
      "metadata": {
        "colab": {
          "base_uri": "https://localhost:8080/"
        },
        "id": "ypRTRRxM3Huh",
        "outputId": "cfb6a79a-fd21-49b1-8c44-27975dcb7418"
      },
      "execution_count": null,
      "outputs": [
        {
          "output_type": "stream",
          "name": "stdout",
          "text": [
            "Collecting pyspellchecker\n",
            "  Downloading pyspellchecker-0.6.3-py3-none-any.whl (2.7 MB)\n",
            "\u001b[K     |████████████████████████████████| 2.7 MB 5.4 MB/s \n",
            "\u001b[?25hInstalling collected packages: pyspellchecker\n",
            "Successfully installed pyspellchecker-0.6.3\n"
          ]
        }
      ]
    },
    {
      "cell_type": "markdown",
      "metadata": {
        "id": "kgPar9rk3TSD"
      },
      "source": [
        "## 2. Importing Files"
      ]
    },
    {
      "cell_type": "code",
      "execution_count": null,
      "metadata": {
        "colab": {
          "base_uri": "https://localhost:8080/"
        },
        "id": "5NgswSvX7Nsf",
        "outputId": "28b49df0-5403-4f89-f34a-3786108b7172"
      },
      "outputs": [
        {
          "output_type": "stream",
          "name": "stderr",
          "text": [
            "/usr/local/lib/python3.7/dist-packages/ipykernel_launcher.py:1: FutureWarning: Passing a negative integer is deprecated in version 1.0 and will not be supported in future version. Instead, use None to not limit the column width.\n",
            "  \"\"\"Entry point for launching an IPython kernel.\n"
          ]
        }
      ],
      "source": [
        "pd.options.display.max_colwidth = -1"
      ]
    },
    {
      "cell_type": "code",
      "execution_count": null,
      "metadata": {
        "colab": {
          "base_uri": "https://localhost:8080/",
          "height": 363
        },
        "id": "mPztFonu3Avw",
        "outputId": "e25611cd-3ffb-464a-9cb9-f4abb1727a30"
      },
      "outputs": [
        {
          "output_type": "execute_result",
          "data": {
            "text/plain": [
              "                                                                                                                                                            Message\n",
              "0  Go until jurong point, crazy.. Available only in bugis n great world la e buffet... Cine there got amore wat...                                                 \n",
              "1  Ok lar... Joking wif u oni...                                                                                                                                   \n",
              "2  Free entry in 2 a wkly comp to win FA Cup final tkts 21st May 2005. Text FA to 87121 to receive entry question(std txt rate)T&C's apply 08452810075over18's     \n",
              "3  U dun say so early hor... U c already then say...                                                                                                               \n",
              "4  Nah I don't think he goes to usf, he lives around here though                                                                                                   \n",
              "5  FreeMsg Hey there darling it's been 3 week's now and no word back! I'd like some fun you up for it still? Tb ok! XxX std chgs to send, £1.50 to rcv             \n",
              "6  Even my brother is not like to speak with me. They treat me like aids patent.                                                                                   \n",
              "7  As per your request 'Melle Melle (Oru Minnaminunginte Nurungu Vettam)' has been set as your callertune for all Callers. Press *9 to copy your friends Callertune\n",
              "8  WINNER!! As a valued network customer you have been selected to receivea £900 prize reward! To claim call 09061701461. Claim code KL341. Valid 12 hours only.   \n",
              "9  Had your mobile 11 months or more? U R entitled to Update to the latest colour mobiles with camera for Free! Call The Mobile Update Co FREE on 08002986030      "
            ],
            "text/html": [
              "\n",
              "  <div id=\"df-951712dc-c30c-4ab7-8624-56e949cfbb4c\">\n",
              "    <div class=\"colab-df-container\">\n",
              "      <div>\n",
              "<style scoped>\n",
              "    .dataframe tbody tr th:only-of-type {\n",
              "        vertical-align: middle;\n",
              "    }\n",
              "\n",
              "    .dataframe tbody tr th {\n",
              "        vertical-align: top;\n",
              "    }\n",
              "\n",
              "    .dataframe thead th {\n",
              "        text-align: right;\n",
              "    }\n",
              "</style>\n",
              "<table border=\"1\" class=\"dataframe\">\n",
              "  <thead>\n",
              "    <tr style=\"text-align: right;\">\n",
              "      <th></th>\n",
              "      <th>Message</th>\n",
              "    </tr>\n",
              "  </thead>\n",
              "  <tbody>\n",
              "    <tr>\n",
              "      <th>0</th>\n",
              "      <td>Go until jurong point, crazy.. Available only in bugis n great world la e buffet... Cine there got amore wat...</td>\n",
              "    </tr>\n",
              "    <tr>\n",
              "      <th>1</th>\n",
              "      <td>Ok lar... Joking wif u oni...</td>\n",
              "    </tr>\n",
              "    <tr>\n",
              "      <th>2</th>\n",
              "      <td>Free entry in 2 a wkly comp to win FA Cup final tkts 21st May 2005. Text FA to 87121 to receive entry question(std txt rate)T&amp;C's apply 08452810075over18's</td>\n",
              "    </tr>\n",
              "    <tr>\n",
              "      <th>3</th>\n",
              "      <td>U dun say so early hor... U c already then say...</td>\n",
              "    </tr>\n",
              "    <tr>\n",
              "      <th>4</th>\n",
              "      <td>Nah I don't think he goes to usf, he lives around here though</td>\n",
              "    </tr>\n",
              "    <tr>\n",
              "      <th>5</th>\n",
              "      <td>FreeMsg Hey there darling it's been 3 week's now and no word back! I'd like some fun you up for it still? Tb ok! XxX std chgs to send, £1.50 to rcv</td>\n",
              "    </tr>\n",
              "    <tr>\n",
              "      <th>6</th>\n",
              "      <td>Even my brother is not like to speak with me. They treat me like aids patent.</td>\n",
              "    </tr>\n",
              "    <tr>\n",
              "      <th>7</th>\n",
              "      <td>As per your request 'Melle Melle (Oru Minnaminunginte Nurungu Vettam)' has been set as your callertune for all Callers. Press *9 to copy your friends Callertune</td>\n",
              "    </tr>\n",
              "    <tr>\n",
              "      <th>8</th>\n",
              "      <td>WINNER!! As a valued network customer you have been selected to receivea £900 prize reward! To claim call 09061701461. Claim code KL341. Valid 12 hours only.</td>\n",
              "    </tr>\n",
              "    <tr>\n",
              "      <th>9</th>\n",
              "      <td>Had your mobile 11 months or more? U R entitled to Update to the latest colour mobiles with camera for Free! Call The Mobile Update Co FREE on 08002986030</td>\n",
              "    </tr>\n",
              "  </tbody>\n",
              "</table>\n",
              "</div>\n",
              "      <button class=\"colab-df-convert\" onclick=\"convertToInteractive('df-951712dc-c30c-4ab7-8624-56e949cfbb4c')\"\n",
              "              title=\"Convert this dataframe to an interactive table.\"\n",
              "              style=\"display:none;\">\n",
              "        \n",
              "  <svg xmlns=\"http://www.w3.org/2000/svg\" height=\"24px\"viewBox=\"0 0 24 24\"\n",
              "       width=\"24px\">\n",
              "    <path d=\"M0 0h24v24H0V0z\" fill=\"none\"/>\n",
              "    <path d=\"M18.56 5.44l.94 2.06.94-2.06 2.06-.94-2.06-.94-.94-2.06-.94 2.06-2.06.94zm-11 1L8.5 8.5l.94-2.06 2.06-.94-2.06-.94L8.5 2.5l-.94 2.06-2.06.94zm10 10l.94 2.06.94-2.06 2.06-.94-2.06-.94-.94-2.06-.94 2.06-2.06.94z\"/><path d=\"M17.41 7.96l-1.37-1.37c-.4-.4-.92-.59-1.43-.59-.52 0-1.04.2-1.43.59L10.3 9.45l-7.72 7.72c-.78.78-.78 2.05 0 2.83L4 21.41c.39.39.9.59 1.41.59.51 0 1.02-.2 1.41-.59l7.78-7.78 2.81-2.81c.8-.78.8-2.07 0-2.86zM5.41 20L4 18.59l7.72-7.72 1.47 1.35L5.41 20z\"/>\n",
              "  </svg>\n",
              "      </button>\n",
              "      \n",
              "  <style>\n",
              "    .colab-df-container {\n",
              "      display:flex;\n",
              "      flex-wrap:wrap;\n",
              "      gap: 12px;\n",
              "    }\n",
              "\n",
              "    .colab-df-convert {\n",
              "      background-color: #E8F0FE;\n",
              "      border: none;\n",
              "      border-radius: 50%;\n",
              "      cursor: pointer;\n",
              "      display: none;\n",
              "      fill: #1967D2;\n",
              "      height: 32px;\n",
              "      padding: 0 0 0 0;\n",
              "      width: 32px;\n",
              "    }\n",
              "\n",
              "    .colab-df-convert:hover {\n",
              "      background-color: #E2EBFA;\n",
              "      box-shadow: 0px 1px 2px rgba(60, 64, 67, 0.3), 0px 1px 3px 1px rgba(60, 64, 67, 0.15);\n",
              "      fill: #174EA6;\n",
              "    }\n",
              "\n",
              "    [theme=dark] .colab-df-convert {\n",
              "      background-color: #3B4455;\n",
              "      fill: #D2E3FC;\n",
              "    }\n",
              "\n",
              "    [theme=dark] .colab-df-convert:hover {\n",
              "      background-color: #434B5C;\n",
              "      box-shadow: 0px 1px 3px 1px rgba(0, 0, 0, 0.15);\n",
              "      filter: drop-shadow(0px 1px 2px rgba(0, 0, 0, 0.3));\n",
              "      fill: #FFFFFF;\n",
              "    }\n",
              "  </style>\n",
              "\n",
              "      <script>\n",
              "        const buttonEl =\n",
              "          document.querySelector('#df-951712dc-c30c-4ab7-8624-56e949cfbb4c button.colab-df-convert');\n",
              "        buttonEl.style.display =\n",
              "          google.colab.kernel.accessAllowed ? 'block' : 'none';\n",
              "\n",
              "        async function convertToInteractive(key) {\n",
              "          const element = document.querySelector('#df-951712dc-c30c-4ab7-8624-56e949cfbb4c');\n",
              "          const dataTable =\n",
              "            await google.colab.kernel.invokeFunction('convertToInteractive',\n",
              "                                                     [key], {});\n",
              "          if (!dataTable) return;\n",
              "\n",
              "          const docLinkHtml = 'Like what you see? Visit the ' +\n",
              "            '<a target=\"_blank\" href=https://colab.research.google.com/notebooks/data_table.ipynb>data table notebook</a>'\n",
              "            + ' to learn more about interactive tables.';\n",
              "          element.innerHTML = '';\n",
              "          dataTable['output_type'] = 'display_data';\n",
              "          await google.colab.output.renderOutput(dataTable, element);\n",
              "          const docLink = document.createElement('div');\n",
              "          docLink.innerHTML = docLinkHtml;\n",
              "          element.appendChild(docLink);\n",
              "        }\n",
              "      </script>\n",
              "    </div>\n",
              "  </div>\n",
              "  "
            ]
          },
          "metadata": {},
          "execution_count": 6
        }
      ],
      "source": [
        "data = pd.read_csv('spam.csv', usecols=['Message'])\n",
        "data.head(10)"
      ]
    },
    {
      "cell_type": "markdown",
      "metadata": {
        "id": "BXpEoRKF32Zr"
      },
      "source": [
        "## 3. Data Cleaning"
      ]
    },
    {
      "cell_type": "code",
      "source": [
        "data['Message'] = data['Message'].str.lower()"
      ],
      "metadata": {
        "id": "2KZ3fzemnJST"
      },
      "execution_count": null,
      "outputs": []
    },
    {
      "cell_type": "code",
      "source": [
        "#Cleansing\n",
        "\n",
        "#Fungsi untuk membersihkan data\n",
        "def Cleansing(text):\n",
        "    #Menghapus tab, new line dan back slice\n",
        "    text = text.replace('\\\\t',\" \").replace('\\\\n',\" \").replace('\\\\u',\" \").replace('\\\\',\"\")\n",
        "    #Menghapus emoticon dan non ASCII\n",
        "    text = text.encode('ascii', 'replace').decode('ascii')\n",
        "    #Menghapus mention, hashtag dan link\n",
        "    text = ' '.join(re.sub(\"([@#][A-Za-z0-9]+)|(\\w+:\\/\\/\\S+)\",\" \", text).split())\n",
        "    #Menghapus URL\n",
        "    return text.replace(\"http://\", \" \").replace(\"https://\", \" \")\n",
        "\n",
        "#Menerapkan fungsi untuk membersihkan data\n",
        "data['Message'] = data['Message'].apply(Cleansing)\n",
        "\n",
        "#Fungsi untuk menghapus angka\n",
        "def Hapus_Angka(text):\n",
        "    return  re.sub(r\"\\d+\", \"\", text)\n",
        "\n",
        "#Menerapkan fungsi untuk menghapus angka\n",
        "data['Message'] = data['Message'].apply(Hapus_Angka)\n",
        "\n",
        "#Fungsi untuk menghapus huruf tunggal\n",
        "def Hapus_HurufTunggal(text):\n",
        "    return re.sub(r\"\\b[a-zA-Z]\\b\", \"\", text)\n",
        "\n",
        "#Menerapkan fungsi untuk menghapus huruf tunggal\n",
        "data['Message'] = data['Message'].apply(Hapus_HurufTunggal)\n",
        "\n",
        "#Menampilkan hasil cleansing\n",
        "print('Hasil Cleansing : \\n')\n",
        "data"
      ],
      "metadata": {
        "colab": {
          "base_uri": "https://localhost:8080/",
          "height": 458
        },
        "id": "HGtHQmYFm8AD",
        "outputId": "84ad75cf-ce5f-452c-f8e7-634665d1c6fd"
      },
      "execution_count": null,
      "outputs": [
        {
          "output_type": "stream",
          "name": "stdout",
          "text": [
            "Hasil Cleansing : \n",
            "\n"
          ]
        },
        {
          "output_type": "execute_result",
          "data": {
            "text/plain": [
              "                                                                                                                                       Message\n",
              "0     go until jurong point, crazy.. available only in bugis  great world la  buffet... cine there got amore wat...                           \n",
              "1     ok lar... joking wif  oni...                                                                                                            \n",
              "2     free entry in   wkly comp to win fa cup final tkts st may . text fa to  to receive entry question(std txt rate)&' apply over'           \n",
              "3      dun say so early hor...   already then say...                                                                                          \n",
              "4     nah  don' think he goes to usf, he lives around here though                                                                             \n",
              "...                                                           ...                                                                             \n",
              "5567  this is the nd time we have tried  contact .  have won the ? pound prize.  claim is easy, call  now! only  per minute. bt-national-rate.\n",
              "5568  will ?  going to esplanade fr home?                                                                                                     \n",
              "5569  pity, * was in mood for that. so...any other suggestions?                                                                               \n",
              "5570  the guy did some bitching but  acted like ' be interested in buying something else next week and he gave it to us for free              \n",
              "5571  rofl. its true to its name                                                                                                              \n",
              "\n",
              "[5572 rows x 1 columns]"
            ],
            "text/html": [
              "\n",
              "  <div id=\"df-33b824fb-e563-447a-b2df-5c525da567d1\">\n",
              "    <div class=\"colab-df-container\">\n",
              "      <div>\n",
              "<style scoped>\n",
              "    .dataframe tbody tr th:only-of-type {\n",
              "        vertical-align: middle;\n",
              "    }\n",
              "\n",
              "    .dataframe tbody tr th {\n",
              "        vertical-align: top;\n",
              "    }\n",
              "\n",
              "    .dataframe thead th {\n",
              "        text-align: right;\n",
              "    }\n",
              "</style>\n",
              "<table border=\"1\" class=\"dataframe\">\n",
              "  <thead>\n",
              "    <tr style=\"text-align: right;\">\n",
              "      <th></th>\n",
              "      <th>Message</th>\n",
              "    </tr>\n",
              "  </thead>\n",
              "  <tbody>\n",
              "    <tr>\n",
              "      <th>0</th>\n",
              "      <td>go until jurong point, crazy.. available only in bugis  great world la  buffet... cine there got amore wat...</td>\n",
              "    </tr>\n",
              "    <tr>\n",
              "      <th>1</th>\n",
              "      <td>ok lar... joking wif  oni...</td>\n",
              "    </tr>\n",
              "    <tr>\n",
              "      <th>2</th>\n",
              "      <td>free entry in   wkly comp to win fa cup final tkts st may . text fa to  to receive entry question(std txt rate)&amp;' apply over'</td>\n",
              "    </tr>\n",
              "    <tr>\n",
              "      <th>3</th>\n",
              "      <td>dun say so early hor...   already then say...</td>\n",
              "    </tr>\n",
              "    <tr>\n",
              "      <th>4</th>\n",
              "      <td>nah  don' think he goes to usf, he lives around here though</td>\n",
              "    </tr>\n",
              "    <tr>\n",
              "      <th>...</th>\n",
              "      <td>...</td>\n",
              "    </tr>\n",
              "    <tr>\n",
              "      <th>5567</th>\n",
              "      <td>this is the nd time we have tried  contact .  have won the ? pound prize.  claim is easy, call  now! only  per minute. bt-national-rate.</td>\n",
              "    </tr>\n",
              "    <tr>\n",
              "      <th>5568</th>\n",
              "      <td>will ?  going to esplanade fr home?</td>\n",
              "    </tr>\n",
              "    <tr>\n",
              "      <th>5569</th>\n",
              "      <td>pity, * was in mood for that. so...any other suggestions?</td>\n",
              "    </tr>\n",
              "    <tr>\n",
              "      <th>5570</th>\n",
              "      <td>the guy did some bitching but  acted like ' be interested in buying something else next week and he gave it to us for free</td>\n",
              "    </tr>\n",
              "    <tr>\n",
              "      <th>5571</th>\n",
              "      <td>rofl. its true to its name</td>\n",
              "    </tr>\n",
              "  </tbody>\n",
              "</table>\n",
              "<p>5572 rows × 1 columns</p>\n",
              "</div>\n",
              "      <button class=\"colab-df-convert\" onclick=\"convertToInteractive('df-33b824fb-e563-447a-b2df-5c525da567d1')\"\n",
              "              title=\"Convert this dataframe to an interactive table.\"\n",
              "              style=\"display:none;\">\n",
              "        \n",
              "  <svg xmlns=\"http://www.w3.org/2000/svg\" height=\"24px\"viewBox=\"0 0 24 24\"\n",
              "       width=\"24px\">\n",
              "    <path d=\"M0 0h24v24H0V0z\" fill=\"none\"/>\n",
              "    <path d=\"M18.56 5.44l.94 2.06.94-2.06 2.06-.94-2.06-.94-.94-2.06-.94 2.06-2.06.94zm-11 1L8.5 8.5l.94-2.06 2.06-.94-2.06-.94L8.5 2.5l-.94 2.06-2.06.94zm10 10l.94 2.06.94-2.06 2.06-.94-2.06-.94-.94-2.06-.94 2.06-2.06.94z\"/><path d=\"M17.41 7.96l-1.37-1.37c-.4-.4-.92-.59-1.43-.59-.52 0-1.04.2-1.43.59L10.3 9.45l-7.72 7.72c-.78.78-.78 2.05 0 2.83L4 21.41c.39.39.9.59 1.41.59.51 0 1.02-.2 1.41-.59l7.78-7.78 2.81-2.81c.8-.78.8-2.07 0-2.86zM5.41 20L4 18.59l7.72-7.72 1.47 1.35L5.41 20z\"/>\n",
              "  </svg>\n",
              "      </button>\n",
              "      \n",
              "  <style>\n",
              "    .colab-df-container {\n",
              "      display:flex;\n",
              "      flex-wrap:wrap;\n",
              "      gap: 12px;\n",
              "    }\n",
              "\n",
              "    .colab-df-convert {\n",
              "      background-color: #E8F0FE;\n",
              "      border: none;\n",
              "      border-radius: 50%;\n",
              "      cursor: pointer;\n",
              "      display: none;\n",
              "      fill: #1967D2;\n",
              "      height: 32px;\n",
              "      padding: 0 0 0 0;\n",
              "      width: 32px;\n",
              "    }\n",
              "\n",
              "    .colab-df-convert:hover {\n",
              "      background-color: #E2EBFA;\n",
              "      box-shadow: 0px 1px 2px rgba(60, 64, 67, 0.3), 0px 1px 3px 1px rgba(60, 64, 67, 0.15);\n",
              "      fill: #174EA6;\n",
              "    }\n",
              "\n",
              "    [theme=dark] .colab-df-convert {\n",
              "      background-color: #3B4455;\n",
              "      fill: #D2E3FC;\n",
              "    }\n",
              "\n",
              "    [theme=dark] .colab-df-convert:hover {\n",
              "      background-color: #434B5C;\n",
              "      box-shadow: 0px 1px 3px 1px rgba(0, 0, 0, 0.15);\n",
              "      filter: drop-shadow(0px 1px 2px rgba(0, 0, 0, 0.3));\n",
              "      fill: #FFFFFF;\n",
              "    }\n",
              "  </style>\n",
              "\n",
              "      <script>\n",
              "        const buttonEl =\n",
              "          document.querySelector('#df-33b824fb-e563-447a-b2df-5c525da567d1 button.colab-df-convert');\n",
              "        buttonEl.style.display =\n",
              "          google.colab.kernel.accessAllowed ? 'block' : 'none';\n",
              "\n",
              "        async function convertToInteractive(key) {\n",
              "          const element = document.querySelector('#df-33b824fb-e563-447a-b2df-5c525da567d1');\n",
              "          const dataTable =\n",
              "            await google.colab.kernel.invokeFunction('convertToInteractive',\n",
              "                                                     [key], {});\n",
              "          if (!dataTable) return;\n",
              "\n",
              "          const docLinkHtml = 'Like what you see? Visit the ' +\n",
              "            '<a target=\"_blank\" href=https://colab.research.google.com/notebooks/data_table.ipynb>data table notebook</a>'\n",
              "            + ' to learn more about interactive tables.';\n",
              "          element.innerHTML = '';\n",
              "          dataTable['output_type'] = 'display_data';\n",
              "          await google.colab.output.renderOutput(dataTable, element);\n",
              "          const docLink = document.createElement('div');\n",
              "          docLink.innerHTML = docLinkHtml;\n",
              "          element.appendChild(docLink);\n",
              "        }\n",
              "      </script>\n",
              "    </div>\n",
              "  </div>\n",
              "  "
            ]
          },
          "metadata": {},
          "execution_count": 8
        }
      ]
    },
    {
      "cell_type": "code",
      "execution_count": null,
      "metadata": {
        "id": "RL4THaEo3hSi"
      },
      "outputs": [],
      "source": [
        "# hilangkan link\n",
        "data['Message']=data['Message'].apply(lambda x:re.sub(r\"http\\S+\", \"\", x))\n",
        "# hilangkan karakter spesial \n",
        "data['Message']=data['Message'].apply(lambda x:' '.join(re.findall(r'\\w+', x)))\n",
        "# hilangkan karakter single\n",
        "data['Message']=data['Message'].apply(lambda x:re.sub(r'\\s+[a-zA-Z]\\s+', '', x))\n",
        "# hilangkan nomor\n",
        "data['Message']=data['Message'].apply(lambda x:re.sub(r'[0-9]', '', x))"
      ]
    },
    {
      "cell_type": "code",
      "execution_count": null,
      "metadata": {
        "colab": {
          "base_uri": "https://localhost:8080/",
          "height": 363
        },
        "id": "oDPEqTIG4SB5",
        "outputId": "0eb29c6f-83ce-4a81-c41c-3532e018862d"
      },
      "outputs": [
        {
          "output_type": "execute_result",
          "data": {
            "text/plain": [
              "                                                                                                                                                    Message\n",
              "0  go until jurong point crazy available only in bugis great world la buffet cine there got amore wat                                                      \n",
              "1  ok lar joking wif oni                                                                                                                                   \n",
              "2  free entry in wkly comp to win fa cup final tkts st may text fa to to receive entry question std txt rate apply over                                    \n",
              "3  dun say so early hor already then say                                                                                                                   \n",
              "4  nah don think he goes to usf he lives around here though                                                                                                \n",
              "5  freemsg hey there darling it been week now and no word back like some fun you up for it still tb ok xxx std chgs to send to rcv                         \n",
              "6  even my brother is not like to speak with me they treat me like aids patent                                                                             \n",
              "7  as per your request melle melle oru minnaminunginte nurungu vettam has been set as your callertune for all callers press to copy your friends callertune\n",
              "8  winner as valued network customer you have been selected to receivea prize reward to claim call claim code kl valid hours only                          \n",
              "9  had your mobile months or more entitled to update to the latest colour mobiles with camera for free call the mobile update co free on                   "
            ],
            "text/html": [
              "\n",
              "  <div id=\"df-73303f21-ef1e-4797-9a05-c9b14e616de7\">\n",
              "    <div class=\"colab-df-container\">\n",
              "      <div>\n",
              "<style scoped>\n",
              "    .dataframe tbody tr th:only-of-type {\n",
              "        vertical-align: middle;\n",
              "    }\n",
              "\n",
              "    .dataframe tbody tr th {\n",
              "        vertical-align: top;\n",
              "    }\n",
              "\n",
              "    .dataframe thead th {\n",
              "        text-align: right;\n",
              "    }\n",
              "</style>\n",
              "<table border=\"1\" class=\"dataframe\">\n",
              "  <thead>\n",
              "    <tr style=\"text-align: right;\">\n",
              "      <th></th>\n",
              "      <th>Message</th>\n",
              "    </tr>\n",
              "  </thead>\n",
              "  <tbody>\n",
              "    <tr>\n",
              "      <th>0</th>\n",
              "      <td>go until jurong point crazy available only in bugis great world la buffet cine there got amore wat</td>\n",
              "    </tr>\n",
              "    <tr>\n",
              "      <th>1</th>\n",
              "      <td>ok lar joking wif oni</td>\n",
              "    </tr>\n",
              "    <tr>\n",
              "      <th>2</th>\n",
              "      <td>free entry in wkly comp to win fa cup final tkts st may text fa to to receive entry question std txt rate apply over</td>\n",
              "    </tr>\n",
              "    <tr>\n",
              "      <th>3</th>\n",
              "      <td>dun say so early hor already then say</td>\n",
              "    </tr>\n",
              "    <tr>\n",
              "      <th>4</th>\n",
              "      <td>nah don think he goes to usf he lives around here though</td>\n",
              "    </tr>\n",
              "    <tr>\n",
              "      <th>5</th>\n",
              "      <td>freemsg hey there darling it been week now and no word back like some fun you up for it still tb ok xxx std chgs to send to rcv</td>\n",
              "    </tr>\n",
              "    <tr>\n",
              "      <th>6</th>\n",
              "      <td>even my brother is not like to speak with me they treat me like aids patent</td>\n",
              "    </tr>\n",
              "    <tr>\n",
              "      <th>7</th>\n",
              "      <td>as per your request melle melle oru minnaminunginte nurungu vettam has been set as your callertune for all callers press to copy your friends callertune</td>\n",
              "    </tr>\n",
              "    <tr>\n",
              "      <th>8</th>\n",
              "      <td>winner as valued network customer you have been selected to receivea prize reward to claim call claim code kl valid hours only</td>\n",
              "    </tr>\n",
              "    <tr>\n",
              "      <th>9</th>\n",
              "      <td>had your mobile months or more entitled to update to the latest colour mobiles with camera for free call the mobile update co free on</td>\n",
              "    </tr>\n",
              "  </tbody>\n",
              "</table>\n",
              "</div>\n",
              "      <button class=\"colab-df-convert\" onclick=\"convertToInteractive('df-73303f21-ef1e-4797-9a05-c9b14e616de7')\"\n",
              "              title=\"Convert this dataframe to an interactive table.\"\n",
              "              style=\"display:none;\">\n",
              "        \n",
              "  <svg xmlns=\"http://www.w3.org/2000/svg\" height=\"24px\"viewBox=\"0 0 24 24\"\n",
              "       width=\"24px\">\n",
              "    <path d=\"M0 0h24v24H0V0z\" fill=\"none\"/>\n",
              "    <path d=\"M18.56 5.44l.94 2.06.94-2.06 2.06-.94-2.06-.94-.94-2.06-.94 2.06-2.06.94zm-11 1L8.5 8.5l.94-2.06 2.06-.94-2.06-.94L8.5 2.5l-.94 2.06-2.06.94zm10 10l.94 2.06.94-2.06 2.06-.94-2.06-.94-.94-2.06-.94 2.06-2.06.94z\"/><path d=\"M17.41 7.96l-1.37-1.37c-.4-.4-.92-.59-1.43-.59-.52 0-1.04.2-1.43.59L10.3 9.45l-7.72 7.72c-.78.78-.78 2.05 0 2.83L4 21.41c.39.39.9.59 1.41.59.51 0 1.02-.2 1.41-.59l7.78-7.78 2.81-2.81c.8-.78.8-2.07 0-2.86zM5.41 20L4 18.59l7.72-7.72 1.47 1.35L5.41 20z\"/>\n",
              "  </svg>\n",
              "      </button>\n",
              "      \n",
              "  <style>\n",
              "    .colab-df-container {\n",
              "      display:flex;\n",
              "      flex-wrap:wrap;\n",
              "      gap: 12px;\n",
              "    }\n",
              "\n",
              "    .colab-df-convert {\n",
              "      background-color: #E8F0FE;\n",
              "      border: none;\n",
              "      border-radius: 50%;\n",
              "      cursor: pointer;\n",
              "      display: none;\n",
              "      fill: #1967D2;\n",
              "      height: 32px;\n",
              "      padding: 0 0 0 0;\n",
              "      width: 32px;\n",
              "    }\n",
              "\n",
              "    .colab-df-convert:hover {\n",
              "      background-color: #E2EBFA;\n",
              "      box-shadow: 0px 1px 2px rgba(60, 64, 67, 0.3), 0px 1px 3px 1px rgba(60, 64, 67, 0.15);\n",
              "      fill: #174EA6;\n",
              "    }\n",
              "\n",
              "    [theme=dark] .colab-df-convert {\n",
              "      background-color: #3B4455;\n",
              "      fill: #D2E3FC;\n",
              "    }\n",
              "\n",
              "    [theme=dark] .colab-df-convert:hover {\n",
              "      background-color: #434B5C;\n",
              "      box-shadow: 0px 1px 3px 1px rgba(0, 0, 0, 0.15);\n",
              "      filter: drop-shadow(0px 1px 2px rgba(0, 0, 0, 0.3));\n",
              "      fill: #FFFFFF;\n",
              "    }\n",
              "  </style>\n",
              "\n",
              "      <script>\n",
              "        const buttonEl =\n",
              "          document.querySelector('#df-73303f21-ef1e-4797-9a05-c9b14e616de7 button.colab-df-convert');\n",
              "        buttonEl.style.display =\n",
              "          google.colab.kernel.accessAllowed ? 'block' : 'none';\n",
              "\n",
              "        async function convertToInteractive(key) {\n",
              "          const element = document.querySelector('#df-73303f21-ef1e-4797-9a05-c9b14e616de7');\n",
              "          const dataTable =\n",
              "            await google.colab.kernel.invokeFunction('convertToInteractive',\n",
              "                                                     [key], {});\n",
              "          if (!dataTable) return;\n",
              "\n",
              "          const docLinkHtml = 'Like what you see? Visit the ' +\n",
              "            '<a target=\"_blank\" href=https://colab.research.google.com/notebooks/data_table.ipynb>data table notebook</a>'\n",
              "            + ' to learn more about interactive tables.';\n",
              "          element.innerHTML = '';\n",
              "          dataTable['output_type'] = 'display_data';\n",
              "          await google.colab.output.renderOutput(dataTable, element);\n",
              "          const docLink = document.createElement('div');\n",
              "          docLink.innerHTML = docLinkHtml;\n",
              "          element.appendChild(docLink);\n",
              "        }\n",
              "      </script>\n",
              "    </div>\n",
              "  </div>\n",
              "  "
            ]
          },
          "metadata": {},
          "execution_count": 10
        }
      ],
      "source": [
        "data=data[['Message']]\n",
        "data.head(10)"
      ]
    },
    {
      "cell_type": "code",
      "execution_count": null,
      "metadata": {
        "colab": {
          "base_uri": "https://localhost:8080/"
        },
        "id": "XBBThzXRBoQn",
        "outputId": "de3b82a7-21ed-4746-c1cb-04eaabfa1c65"
      },
      "outputs": [
        {
          "output_type": "execute_result",
          "data": {
            "text/plain": [
              "[('to', 2250),\n",
              " ('you', 2245),\n",
              " ('the', 1337),\n",
              " ('and', 980),\n",
              " ('in', 904),\n",
              " ('is', 896),\n",
              " ('me', 807),\n",
              " ('my', 767),\n",
              " ('it', 752),\n",
              " ('for', 711)]"
            ]
          },
          "metadata": {},
          "execution_count": 11
        }
      ],
      "source": [
        "from collections import Counter\n",
        "cnt = Counter()\n",
        "for text in data[\"Message\"].values:\n",
        "    for word in text.split():\n",
        "        cnt[word] += 1\n",
        "        \n",
        "cnt.most_common(10)"
      ]
    },
    {
      "cell_type": "code",
      "execution_count": null,
      "metadata": {
        "colab": {
          "base_uri": "https://localhost:8080/",
          "height": 206
        },
        "id": "qC3vdmK5CBZY",
        "outputId": "67a5d4b1-a94f-4012-8ffc-d1f67a0d0a29"
      },
      "outputs": [
        {
          "output_type": "execute_result",
          "data": {
            "text/plain": [
              "                                                                                                    Message\n",
              "0  go until jurong point crazy available only bugis great world la buffet cine there got amore wat         \n",
              "1  ok lar joking wif oni                                                                                   \n",
              "2  free entry wkly comp win fa cup final tkts st may text fa receive entry question std txt rate apply over\n",
              "3  dun say so early hor already then say                                                                   \n",
              "4  nah don think he goes usf he lives around here though                                                   "
            ],
            "text/html": [
              "\n",
              "  <div id=\"df-4e305298-a7ce-4063-b555-3f830e5ef6d9\">\n",
              "    <div class=\"colab-df-container\">\n",
              "      <div>\n",
              "<style scoped>\n",
              "    .dataframe tbody tr th:only-of-type {\n",
              "        vertical-align: middle;\n",
              "    }\n",
              "\n",
              "    .dataframe tbody tr th {\n",
              "        vertical-align: top;\n",
              "    }\n",
              "\n",
              "    .dataframe thead th {\n",
              "        text-align: right;\n",
              "    }\n",
              "</style>\n",
              "<table border=\"1\" class=\"dataframe\">\n",
              "  <thead>\n",
              "    <tr style=\"text-align: right;\">\n",
              "      <th></th>\n",
              "      <th>Message</th>\n",
              "    </tr>\n",
              "  </thead>\n",
              "  <tbody>\n",
              "    <tr>\n",
              "      <th>0</th>\n",
              "      <td>go until jurong point crazy available only bugis great world la buffet cine there got amore wat</td>\n",
              "    </tr>\n",
              "    <tr>\n",
              "      <th>1</th>\n",
              "      <td>ok lar joking wif oni</td>\n",
              "    </tr>\n",
              "    <tr>\n",
              "      <th>2</th>\n",
              "      <td>free entry wkly comp win fa cup final tkts st may text fa receive entry question std txt rate apply over</td>\n",
              "    </tr>\n",
              "    <tr>\n",
              "      <th>3</th>\n",
              "      <td>dun say so early hor already then say</td>\n",
              "    </tr>\n",
              "    <tr>\n",
              "      <th>4</th>\n",
              "      <td>nah don think he goes usf he lives around here though</td>\n",
              "    </tr>\n",
              "  </tbody>\n",
              "</table>\n",
              "</div>\n",
              "      <button class=\"colab-df-convert\" onclick=\"convertToInteractive('df-4e305298-a7ce-4063-b555-3f830e5ef6d9')\"\n",
              "              title=\"Convert this dataframe to an interactive table.\"\n",
              "              style=\"display:none;\">\n",
              "        \n",
              "  <svg xmlns=\"http://www.w3.org/2000/svg\" height=\"24px\"viewBox=\"0 0 24 24\"\n",
              "       width=\"24px\">\n",
              "    <path d=\"M0 0h24v24H0V0z\" fill=\"none\"/>\n",
              "    <path d=\"M18.56 5.44l.94 2.06.94-2.06 2.06-.94-2.06-.94-.94-2.06-.94 2.06-2.06.94zm-11 1L8.5 8.5l.94-2.06 2.06-.94-2.06-.94L8.5 2.5l-.94 2.06-2.06.94zm10 10l.94 2.06.94-2.06 2.06-.94-2.06-.94-.94-2.06-.94 2.06-2.06.94z\"/><path d=\"M17.41 7.96l-1.37-1.37c-.4-.4-.92-.59-1.43-.59-.52 0-1.04.2-1.43.59L10.3 9.45l-7.72 7.72c-.78.78-.78 2.05 0 2.83L4 21.41c.39.39.9.59 1.41.59.51 0 1.02-.2 1.41-.59l7.78-7.78 2.81-2.81c.8-.78.8-2.07 0-2.86zM5.41 20L4 18.59l7.72-7.72 1.47 1.35L5.41 20z\"/>\n",
              "  </svg>\n",
              "      </button>\n",
              "      \n",
              "  <style>\n",
              "    .colab-df-container {\n",
              "      display:flex;\n",
              "      flex-wrap:wrap;\n",
              "      gap: 12px;\n",
              "    }\n",
              "\n",
              "    .colab-df-convert {\n",
              "      background-color: #E8F0FE;\n",
              "      border: none;\n",
              "      border-radius: 50%;\n",
              "      cursor: pointer;\n",
              "      display: none;\n",
              "      fill: #1967D2;\n",
              "      height: 32px;\n",
              "      padding: 0 0 0 0;\n",
              "      width: 32px;\n",
              "    }\n",
              "\n",
              "    .colab-df-convert:hover {\n",
              "      background-color: #E2EBFA;\n",
              "      box-shadow: 0px 1px 2px rgba(60, 64, 67, 0.3), 0px 1px 3px 1px rgba(60, 64, 67, 0.15);\n",
              "      fill: #174EA6;\n",
              "    }\n",
              "\n",
              "    [theme=dark] .colab-df-convert {\n",
              "      background-color: #3B4455;\n",
              "      fill: #D2E3FC;\n",
              "    }\n",
              "\n",
              "    [theme=dark] .colab-df-convert:hover {\n",
              "      background-color: #434B5C;\n",
              "      box-shadow: 0px 1px 3px 1px rgba(0, 0, 0, 0.15);\n",
              "      filter: drop-shadow(0px 1px 2px rgba(0, 0, 0, 0.3));\n",
              "      fill: #FFFFFF;\n",
              "    }\n",
              "  </style>\n",
              "\n",
              "      <script>\n",
              "        const buttonEl =\n",
              "          document.querySelector('#df-4e305298-a7ce-4063-b555-3f830e5ef6d9 button.colab-df-convert');\n",
              "        buttonEl.style.display =\n",
              "          google.colab.kernel.accessAllowed ? 'block' : 'none';\n",
              "\n",
              "        async function convertToInteractive(key) {\n",
              "          const element = document.querySelector('#df-4e305298-a7ce-4063-b555-3f830e5ef6d9');\n",
              "          const dataTable =\n",
              "            await google.colab.kernel.invokeFunction('convertToInteractive',\n",
              "                                                     [key], {});\n",
              "          if (!dataTable) return;\n",
              "\n",
              "          const docLinkHtml = 'Like what you see? Visit the ' +\n",
              "            '<a target=\"_blank\" href=https://colab.research.google.com/notebooks/data_table.ipynb>data table notebook</a>'\n",
              "            + ' to learn more about interactive tables.';\n",
              "          element.innerHTML = '';\n",
              "          dataTable['output_type'] = 'display_data';\n",
              "          await google.colab.output.renderOutput(dataTable, element);\n",
              "          const docLink = document.createElement('div');\n",
              "          docLink.innerHTML = docLinkHtml;\n",
              "          element.appendChild(docLink);\n",
              "        }\n",
              "      </script>\n",
              "    </div>\n",
              "  </div>\n",
              "  "
            ]
          },
          "metadata": {},
          "execution_count": 12
        }
      ],
      "source": [
        "FREQWORDS = set([w for (w, wc) in cnt.most_common(10)])\n",
        "def remove_freqwords(text):\n",
        "    return \" \".join([word for word in str(text).split() if word not in FREQWORDS])\n",
        "\n",
        "data[\"Message\"] = data[\"Message\"].apply(lambda text: remove_freqwords(text))\n",
        "data.head()"
      ]
    },
    {
      "cell_type": "code",
      "source": [
        "n_rare_words = 100\n",
        "RAREWORDS = set([w for (w, wc) in cnt.most_common()[:-n_rare_words-1:-1]])\n",
        "def remove_rarewords(text):\n",
        "    return \" \".join([word for word in str(text).split() if word not in RAREWORDS])\n",
        "\n",
        "data[\"Message\"] = data[\"Message\"].apply(lambda text: remove_rarewords(text))\n",
        "data.head()"
      ],
      "metadata": {
        "colab": {
          "base_uri": "https://localhost:8080/",
          "height": 206
        },
        "id": "nPmEHL4OpEEF",
        "outputId": "f9a681ec-986d-4ae2-93a9-5a7960f0e08d"
      },
      "execution_count": null,
      "outputs": [
        {
          "output_type": "execute_result",
          "data": {
            "text/plain": [
              "                                                                                                    Message\n",
              "0  go until jurong point crazy available only bugis great world la buffet cine there got amore wat         \n",
              "1  ok lar joking wif oni                                                                                   \n",
              "2  free entry wkly comp win fa cup final tkts st may text fa receive entry question std txt rate apply over\n",
              "3  dun say so early hor already then say                                                                   \n",
              "4  nah don think he goes usf he lives around here though                                                   "
            ],
            "text/html": [
              "\n",
              "  <div id=\"df-cb4ca252-5fae-4984-a509-af826bf84cb9\">\n",
              "    <div class=\"colab-df-container\">\n",
              "      <div>\n",
              "<style scoped>\n",
              "    .dataframe tbody tr th:only-of-type {\n",
              "        vertical-align: middle;\n",
              "    }\n",
              "\n",
              "    .dataframe tbody tr th {\n",
              "        vertical-align: top;\n",
              "    }\n",
              "\n",
              "    .dataframe thead th {\n",
              "        text-align: right;\n",
              "    }\n",
              "</style>\n",
              "<table border=\"1\" class=\"dataframe\">\n",
              "  <thead>\n",
              "    <tr style=\"text-align: right;\">\n",
              "      <th></th>\n",
              "      <th>Message</th>\n",
              "    </tr>\n",
              "  </thead>\n",
              "  <tbody>\n",
              "    <tr>\n",
              "      <th>0</th>\n",
              "      <td>go until jurong point crazy available only bugis great world la buffet cine there got amore wat</td>\n",
              "    </tr>\n",
              "    <tr>\n",
              "      <th>1</th>\n",
              "      <td>ok lar joking wif oni</td>\n",
              "    </tr>\n",
              "    <tr>\n",
              "      <th>2</th>\n",
              "      <td>free entry wkly comp win fa cup final tkts st may text fa receive entry question std txt rate apply over</td>\n",
              "    </tr>\n",
              "    <tr>\n",
              "      <th>3</th>\n",
              "      <td>dun say so early hor already then say</td>\n",
              "    </tr>\n",
              "    <tr>\n",
              "      <th>4</th>\n",
              "      <td>nah don think he goes usf he lives around here though</td>\n",
              "    </tr>\n",
              "  </tbody>\n",
              "</table>\n",
              "</div>\n",
              "      <button class=\"colab-df-convert\" onclick=\"convertToInteractive('df-cb4ca252-5fae-4984-a509-af826bf84cb9')\"\n",
              "              title=\"Convert this dataframe to an interactive table.\"\n",
              "              style=\"display:none;\">\n",
              "        \n",
              "  <svg xmlns=\"http://www.w3.org/2000/svg\" height=\"24px\"viewBox=\"0 0 24 24\"\n",
              "       width=\"24px\">\n",
              "    <path d=\"M0 0h24v24H0V0z\" fill=\"none\"/>\n",
              "    <path d=\"M18.56 5.44l.94 2.06.94-2.06 2.06-.94-2.06-.94-.94-2.06-.94 2.06-2.06.94zm-11 1L8.5 8.5l.94-2.06 2.06-.94-2.06-.94L8.5 2.5l-.94 2.06-2.06.94zm10 10l.94 2.06.94-2.06 2.06-.94-2.06-.94-.94-2.06-.94 2.06-2.06.94z\"/><path d=\"M17.41 7.96l-1.37-1.37c-.4-.4-.92-.59-1.43-.59-.52 0-1.04.2-1.43.59L10.3 9.45l-7.72 7.72c-.78.78-.78 2.05 0 2.83L4 21.41c.39.39.9.59 1.41.59.51 0 1.02-.2 1.41-.59l7.78-7.78 2.81-2.81c.8-.78.8-2.07 0-2.86zM5.41 20L4 18.59l7.72-7.72 1.47 1.35L5.41 20z\"/>\n",
              "  </svg>\n",
              "      </button>\n",
              "      \n",
              "  <style>\n",
              "    .colab-df-container {\n",
              "      display:flex;\n",
              "      flex-wrap:wrap;\n",
              "      gap: 12px;\n",
              "    }\n",
              "\n",
              "    .colab-df-convert {\n",
              "      background-color: #E8F0FE;\n",
              "      border: none;\n",
              "      border-radius: 50%;\n",
              "      cursor: pointer;\n",
              "      display: none;\n",
              "      fill: #1967D2;\n",
              "      height: 32px;\n",
              "      padding: 0 0 0 0;\n",
              "      width: 32px;\n",
              "    }\n",
              "\n",
              "    .colab-df-convert:hover {\n",
              "      background-color: #E2EBFA;\n",
              "      box-shadow: 0px 1px 2px rgba(60, 64, 67, 0.3), 0px 1px 3px 1px rgba(60, 64, 67, 0.15);\n",
              "      fill: #174EA6;\n",
              "    }\n",
              "\n",
              "    [theme=dark] .colab-df-convert {\n",
              "      background-color: #3B4455;\n",
              "      fill: #D2E3FC;\n",
              "    }\n",
              "\n",
              "    [theme=dark] .colab-df-convert:hover {\n",
              "      background-color: #434B5C;\n",
              "      box-shadow: 0px 1px 3px 1px rgba(0, 0, 0, 0.15);\n",
              "      filter: drop-shadow(0px 1px 2px rgba(0, 0, 0, 0.3));\n",
              "      fill: #FFFFFF;\n",
              "    }\n",
              "  </style>\n",
              "\n",
              "      <script>\n",
              "        const buttonEl =\n",
              "          document.querySelector('#df-cb4ca252-5fae-4984-a509-af826bf84cb9 button.colab-df-convert');\n",
              "        buttonEl.style.display =\n",
              "          google.colab.kernel.accessAllowed ? 'block' : 'none';\n",
              "\n",
              "        async function convertToInteractive(key) {\n",
              "          const element = document.querySelector('#df-cb4ca252-5fae-4984-a509-af826bf84cb9');\n",
              "          const dataTable =\n",
              "            await google.colab.kernel.invokeFunction('convertToInteractive',\n",
              "                                                     [key], {});\n",
              "          if (!dataTable) return;\n",
              "\n",
              "          const docLinkHtml = 'Like what you see? Visit the ' +\n",
              "            '<a target=\"_blank\" href=https://colab.research.google.com/notebooks/data_table.ipynb>data table notebook</a>'\n",
              "            + ' to learn more about interactive tables.';\n",
              "          element.innerHTML = '';\n",
              "          dataTable['output_type'] = 'display_data';\n",
              "          await google.colab.output.renderOutput(dataTable, element);\n",
              "          const docLink = document.createElement('div');\n",
              "          docLink.innerHTML = docLinkHtml;\n",
              "          element.appendChild(docLink);\n",
              "        }\n",
              "      </script>\n",
              "    </div>\n",
              "  </div>\n",
              "  "
            ]
          },
          "metadata": {},
          "execution_count": 13
        }
      ]
    },
    {
      "cell_type": "code",
      "source": [
        "nltk.download('words')"
      ],
      "metadata": {
        "colab": {
          "base_uri": "https://localhost:8080/"
        },
        "id": "d9e1zSfVfdFo",
        "outputId": "d1a947d9-ee6a-41ad-b6bd-6585acc26eda"
      },
      "execution_count": null,
      "outputs": [
        {
          "output_type": "stream",
          "name": "stdout",
          "text": [
            "[nltk_data] Downloading package words to /root/nltk_data...\n",
            "[nltk_data]   Unzipping corpora/words.zip.\n"
          ]
        },
        {
          "output_type": "execute_result",
          "data": {
            "text/plain": [
              "True"
            ]
          },
          "metadata": {},
          "execution_count": 14
        }
      ]
    },
    {
      "cell_type": "code",
      "source": [
        "from nltk.corpus import stopwords\n",
        "\", \".join(stopwords.words('english'))"
      ],
      "metadata": {
        "colab": {
          "base_uri": "https://localhost:8080/",
          "height": 140
        },
        "id": "s9OoJ0F6rvO8",
        "outputId": "133a3877-3d6e-4e76-9c7d-df20d1bd495c"
      },
      "execution_count": null,
      "outputs": [
        {
          "output_type": "execute_result",
          "data": {
            "text/plain": [
              "\"i, me, my, myself, we, our, ours, ourselves, you, you're, you've, you'll, you'd, your, yours, yourself, yourselves, he, him, his, himself, she, she's, her, hers, herself, it, it's, its, itself, they, them, their, theirs, themselves, what, which, who, whom, this, that, that'll, these, those, am, is, are, was, were, be, been, being, have, has, had, having, do, does, did, doing, a, an, the, and, but, if, or, because, as, until, while, of, at, by, for, with, about, against, between, into, through, during, before, after, above, below, to, from, up, down, in, out, on, off, over, under, again, further, then, once, here, there, when, where, why, how, all, any, both, each, few, more, most, other, some, such, no, nor, not, only, own, same, so, than, too, very, s, t, can, will, just, don, don't, should, should've, now, d, ll, m, o, re, ve, y, ain, aren, aren't, couldn, couldn't, didn, didn't, doesn, doesn't, hadn, hadn't, hasn, hasn't, haven, haven't, isn, isn't, ma, mightn, mightn't, mustn, mustn't, needn, needn't, shan, shan't, shouldn, shouldn't, wasn, wasn't, weren, weren't, won, won't, wouldn, wouldn't\""
            ],
            "application/vnd.google.colaboratory.intrinsic+json": {
              "type": "string"
            }
          },
          "metadata": {},
          "execution_count": 15
        }
      ]
    },
    {
      "cell_type": "code",
      "source": [
        "STOPWORDS = set(stopwords.words('english'))\n",
        "def remove_stopwords(text):\n",
        "    return \" \".join([word for word in str(text).split() if word not in STOPWORDS])\n",
        "\n",
        "data[\"Message\"] = data[\"Message\"].apply(lambda text: remove_stopwords(text))\n",
        "data.head()"
      ],
      "metadata": {
        "colab": {
          "base_uri": "https://localhost:8080/",
          "height": 206
        },
        "id": "uMKS1YlyrxVj",
        "outputId": "1b836954-6249-4632-c2b1-589070661c52"
      },
      "execution_count": null,
      "outputs": [
        {
          "output_type": "execute_result",
          "data": {
            "text/plain": [
              "                                                                                               Message\n",
              "0  go jurong point crazy available bugis great world la buffet cine got amore wat                     \n",
              "1  ok lar joking wif oni                                                                              \n",
              "2  free entry wkly comp win fa cup final tkts st may text fa receive entry question std txt rate apply\n",
              "3  dun say early hor already say                                                                      \n",
              "4  nah think goes usf lives around though                                                             "
            ],
            "text/html": [
              "\n",
              "  <div id=\"df-0c065bf5-5365-49ec-aa59-d18d6229cf27\">\n",
              "    <div class=\"colab-df-container\">\n",
              "      <div>\n",
              "<style scoped>\n",
              "    .dataframe tbody tr th:only-of-type {\n",
              "        vertical-align: middle;\n",
              "    }\n",
              "\n",
              "    .dataframe tbody tr th {\n",
              "        vertical-align: top;\n",
              "    }\n",
              "\n",
              "    .dataframe thead th {\n",
              "        text-align: right;\n",
              "    }\n",
              "</style>\n",
              "<table border=\"1\" class=\"dataframe\">\n",
              "  <thead>\n",
              "    <tr style=\"text-align: right;\">\n",
              "      <th></th>\n",
              "      <th>Message</th>\n",
              "    </tr>\n",
              "  </thead>\n",
              "  <tbody>\n",
              "    <tr>\n",
              "      <th>0</th>\n",
              "      <td>go jurong point crazy available bugis great world la buffet cine got amore wat</td>\n",
              "    </tr>\n",
              "    <tr>\n",
              "      <th>1</th>\n",
              "      <td>ok lar joking wif oni</td>\n",
              "    </tr>\n",
              "    <tr>\n",
              "      <th>2</th>\n",
              "      <td>free entry wkly comp win fa cup final tkts st may text fa receive entry question std txt rate apply</td>\n",
              "    </tr>\n",
              "    <tr>\n",
              "      <th>3</th>\n",
              "      <td>dun say early hor already say</td>\n",
              "    </tr>\n",
              "    <tr>\n",
              "      <th>4</th>\n",
              "      <td>nah think goes usf lives around though</td>\n",
              "    </tr>\n",
              "  </tbody>\n",
              "</table>\n",
              "</div>\n",
              "      <button class=\"colab-df-convert\" onclick=\"convertToInteractive('df-0c065bf5-5365-49ec-aa59-d18d6229cf27')\"\n",
              "              title=\"Convert this dataframe to an interactive table.\"\n",
              "              style=\"display:none;\">\n",
              "        \n",
              "  <svg xmlns=\"http://www.w3.org/2000/svg\" height=\"24px\"viewBox=\"0 0 24 24\"\n",
              "       width=\"24px\">\n",
              "    <path d=\"M0 0h24v24H0V0z\" fill=\"none\"/>\n",
              "    <path d=\"M18.56 5.44l.94 2.06.94-2.06 2.06-.94-2.06-.94-.94-2.06-.94 2.06-2.06.94zm-11 1L8.5 8.5l.94-2.06 2.06-.94-2.06-.94L8.5 2.5l-.94 2.06-2.06.94zm10 10l.94 2.06.94-2.06 2.06-.94-2.06-.94-.94-2.06-.94 2.06-2.06.94z\"/><path d=\"M17.41 7.96l-1.37-1.37c-.4-.4-.92-.59-1.43-.59-.52 0-1.04.2-1.43.59L10.3 9.45l-7.72 7.72c-.78.78-.78 2.05 0 2.83L4 21.41c.39.39.9.59 1.41.59.51 0 1.02-.2 1.41-.59l7.78-7.78 2.81-2.81c.8-.78.8-2.07 0-2.86zM5.41 20L4 18.59l7.72-7.72 1.47 1.35L5.41 20z\"/>\n",
              "  </svg>\n",
              "      </button>\n",
              "      \n",
              "  <style>\n",
              "    .colab-df-container {\n",
              "      display:flex;\n",
              "      flex-wrap:wrap;\n",
              "      gap: 12px;\n",
              "    }\n",
              "\n",
              "    .colab-df-convert {\n",
              "      background-color: #E8F0FE;\n",
              "      border: none;\n",
              "      border-radius: 50%;\n",
              "      cursor: pointer;\n",
              "      display: none;\n",
              "      fill: #1967D2;\n",
              "      height: 32px;\n",
              "      padding: 0 0 0 0;\n",
              "      width: 32px;\n",
              "    }\n",
              "\n",
              "    .colab-df-convert:hover {\n",
              "      background-color: #E2EBFA;\n",
              "      box-shadow: 0px 1px 2px rgba(60, 64, 67, 0.3), 0px 1px 3px 1px rgba(60, 64, 67, 0.15);\n",
              "      fill: #174EA6;\n",
              "    }\n",
              "\n",
              "    [theme=dark] .colab-df-convert {\n",
              "      background-color: #3B4455;\n",
              "      fill: #D2E3FC;\n",
              "    }\n",
              "\n",
              "    [theme=dark] .colab-df-convert:hover {\n",
              "      background-color: #434B5C;\n",
              "      box-shadow: 0px 1px 3px 1px rgba(0, 0, 0, 0.15);\n",
              "      filter: drop-shadow(0px 1px 2px rgba(0, 0, 0, 0.3));\n",
              "      fill: #FFFFFF;\n",
              "    }\n",
              "  </style>\n",
              "\n",
              "      <script>\n",
              "        const buttonEl =\n",
              "          document.querySelector('#df-0c065bf5-5365-49ec-aa59-d18d6229cf27 button.colab-df-convert');\n",
              "        buttonEl.style.display =\n",
              "          google.colab.kernel.accessAllowed ? 'block' : 'none';\n",
              "\n",
              "        async function convertToInteractive(key) {\n",
              "          const element = document.querySelector('#df-0c065bf5-5365-49ec-aa59-d18d6229cf27');\n",
              "          const dataTable =\n",
              "            await google.colab.kernel.invokeFunction('convertToInteractive',\n",
              "                                                     [key], {});\n",
              "          if (!dataTable) return;\n",
              "\n",
              "          const docLinkHtml = 'Like what you see? Visit the ' +\n",
              "            '<a target=\"_blank\" href=https://colab.research.google.com/notebooks/data_table.ipynb>data table notebook</a>'\n",
              "            + ' to learn more about interactive tables.';\n",
              "          element.innerHTML = '';\n",
              "          dataTable['output_type'] = 'display_data';\n",
              "          await google.colab.output.renderOutput(dataTable, element);\n",
              "          const docLink = document.createElement('div');\n",
              "          docLink.innerHTML = docLinkHtml;\n",
              "          element.appendChild(docLink);\n",
              "        }\n",
              "      </script>\n",
              "    </div>\n",
              "  </div>\n",
              "  "
            ]
          },
          "metadata": {},
          "execution_count": 16
        }
      ]
    },
    {
      "cell_type": "markdown",
      "metadata": {
        "id": "pl5pQVcK5Ehu"
      },
      "source": [
        "## 4. Language Preprocessing "
      ]
    },
    {
      "cell_type": "markdown",
      "metadata": {
        "id": "6dllwQML6nY2"
      },
      "source": [
        "### 4.1 Lemmatisasi"
      ]
    },
    {
      "cell_type": "code",
      "execution_count": null,
      "metadata": {
        "colab": {
          "base_uri": "https://localhost:8080/"
        },
        "id": "Pvoiip0s6meQ",
        "outputId": "8608061e-09b1-46cd-a94e-c31e8b85096b"
      },
      "outputs": [
        {
          "output_type": "stream",
          "name": "stdout",
          "text": [
            "[nltk_data] Downloading package wordnet to /root/nltk_data...\n",
            "[nltk_data]   Unzipping corpora/wordnet.zip.\n",
            "[nltk_data] Downloading package averaged_perceptron_tagger to\n",
            "[nltk_data]     /root/nltk_data...\n",
            "[nltk_data]   Unzipping taggers/averaged_perceptron_tagger.zip.\n"
          ]
        },
        {
          "output_type": "execute_result",
          "data": {
            "text/plain": [
              "True"
            ]
          },
          "metadata": {},
          "execution_count": 17
        }
      ],
      "source": [
        "nltk.download('wordnet')\n",
        "nltk.download('averaged_perceptron_tagger')"
      ]
    },
    {
      "cell_type": "code",
      "execution_count": null,
      "metadata": {
        "colab": {
          "base_uri": "https://localhost:8080/",
          "height": 267
        },
        "id": "cQrlCf224g_X",
        "outputId": "fb18d064-e1d4-4e51-92d2-f10a37a31eb5"
      },
      "outputs": [
        {
          "output_type": "execute_result",
          "data": {
            "text/plain": [
              "                                                                                               Message  \\\n",
              "0  go jurong point crazy available bugis great world la buffet cine got amore wat                        \n",
              "1  ok lar joking wif oni                                                                                 \n",
              "2  free entry wkly comp win fa cup final tkts st may text fa receive entry question std txt rate apply   \n",
              "3  dun say early hor already say                                                                         \n",
              "4  nah think goes usf lives around though                                                                \n",
              "\n",
              "                                                                                   text_terlemmatisasi  \n",
              "0  go jurong point crazy available bugis great world la buffet cine get amore wat                       \n",
              "1  ok lar joking wif oni                                                                                \n",
              "2  free entry wkly comp win fa cup final tkts st may text fa receive entry question std txt rate apply  \n",
              "3  dun say early hor already say                                                                        \n",
              "4  nah think go usf life around though                                                                  "
            ],
            "text/html": [
              "\n",
              "  <div id=\"df-6c23ee72-b43d-451e-9b6c-3bc435ee0c67\">\n",
              "    <div class=\"colab-df-container\">\n",
              "      <div>\n",
              "<style scoped>\n",
              "    .dataframe tbody tr th:only-of-type {\n",
              "        vertical-align: middle;\n",
              "    }\n",
              "\n",
              "    .dataframe tbody tr th {\n",
              "        vertical-align: top;\n",
              "    }\n",
              "\n",
              "    .dataframe thead th {\n",
              "        text-align: right;\n",
              "    }\n",
              "</style>\n",
              "<table border=\"1\" class=\"dataframe\">\n",
              "  <thead>\n",
              "    <tr style=\"text-align: right;\">\n",
              "      <th></th>\n",
              "      <th>Message</th>\n",
              "      <th>text_terlemmatisasi</th>\n",
              "    </tr>\n",
              "  </thead>\n",
              "  <tbody>\n",
              "    <tr>\n",
              "      <th>0</th>\n",
              "      <td>go jurong point crazy available bugis great world la buffet cine got amore wat</td>\n",
              "      <td>go jurong point crazy available bugis great world la buffet cine get amore wat</td>\n",
              "    </tr>\n",
              "    <tr>\n",
              "      <th>1</th>\n",
              "      <td>ok lar joking wif oni</td>\n",
              "      <td>ok lar joking wif oni</td>\n",
              "    </tr>\n",
              "    <tr>\n",
              "      <th>2</th>\n",
              "      <td>free entry wkly comp win fa cup final tkts st may text fa receive entry question std txt rate apply</td>\n",
              "      <td>free entry wkly comp win fa cup final tkts st may text fa receive entry question std txt rate apply</td>\n",
              "    </tr>\n",
              "    <tr>\n",
              "      <th>3</th>\n",
              "      <td>dun say early hor already say</td>\n",
              "      <td>dun say early hor already say</td>\n",
              "    </tr>\n",
              "    <tr>\n",
              "      <th>4</th>\n",
              "      <td>nah think goes usf lives around though</td>\n",
              "      <td>nah think go usf life around though</td>\n",
              "    </tr>\n",
              "  </tbody>\n",
              "</table>\n",
              "</div>\n",
              "      <button class=\"colab-df-convert\" onclick=\"convertToInteractive('df-6c23ee72-b43d-451e-9b6c-3bc435ee0c67')\"\n",
              "              title=\"Convert this dataframe to an interactive table.\"\n",
              "              style=\"display:none;\">\n",
              "        \n",
              "  <svg xmlns=\"http://www.w3.org/2000/svg\" height=\"24px\"viewBox=\"0 0 24 24\"\n",
              "       width=\"24px\">\n",
              "    <path d=\"M0 0h24v24H0V0z\" fill=\"none\"/>\n",
              "    <path d=\"M18.56 5.44l.94 2.06.94-2.06 2.06-.94-2.06-.94-.94-2.06-.94 2.06-2.06.94zm-11 1L8.5 8.5l.94-2.06 2.06-.94-2.06-.94L8.5 2.5l-.94 2.06-2.06.94zm10 10l.94 2.06.94-2.06 2.06-.94-2.06-.94-.94-2.06-.94 2.06-2.06.94z\"/><path d=\"M17.41 7.96l-1.37-1.37c-.4-.4-.92-.59-1.43-.59-.52 0-1.04.2-1.43.59L10.3 9.45l-7.72 7.72c-.78.78-.78 2.05 0 2.83L4 21.41c.39.39.9.59 1.41.59.51 0 1.02-.2 1.41-.59l7.78-7.78 2.81-2.81c.8-.78.8-2.07 0-2.86zM5.41 20L4 18.59l7.72-7.72 1.47 1.35L5.41 20z\"/>\n",
              "  </svg>\n",
              "      </button>\n",
              "      \n",
              "  <style>\n",
              "    .colab-df-container {\n",
              "      display:flex;\n",
              "      flex-wrap:wrap;\n",
              "      gap: 12px;\n",
              "    }\n",
              "\n",
              "    .colab-df-convert {\n",
              "      background-color: #E8F0FE;\n",
              "      border: none;\n",
              "      border-radius: 50%;\n",
              "      cursor: pointer;\n",
              "      display: none;\n",
              "      fill: #1967D2;\n",
              "      height: 32px;\n",
              "      padding: 0 0 0 0;\n",
              "      width: 32px;\n",
              "    }\n",
              "\n",
              "    .colab-df-convert:hover {\n",
              "      background-color: #E2EBFA;\n",
              "      box-shadow: 0px 1px 2px rgba(60, 64, 67, 0.3), 0px 1px 3px 1px rgba(60, 64, 67, 0.15);\n",
              "      fill: #174EA6;\n",
              "    }\n",
              "\n",
              "    [theme=dark] .colab-df-convert {\n",
              "      background-color: #3B4455;\n",
              "      fill: #D2E3FC;\n",
              "    }\n",
              "\n",
              "    [theme=dark] .colab-df-convert:hover {\n",
              "      background-color: #434B5C;\n",
              "      box-shadow: 0px 1px 3px 1px rgba(0, 0, 0, 0.15);\n",
              "      filter: drop-shadow(0px 1px 2px rgba(0, 0, 0, 0.3));\n",
              "      fill: #FFFFFF;\n",
              "    }\n",
              "  </style>\n",
              "\n",
              "      <script>\n",
              "        const buttonEl =\n",
              "          document.querySelector('#df-6c23ee72-b43d-451e-9b6c-3bc435ee0c67 button.colab-df-convert');\n",
              "        buttonEl.style.display =\n",
              "          google.colab.kernel.accessAllowed ? 'block' : 'none';\n",
              "\n",
              "        async function convertToInteractive(key) {\n",
              "          const element = document.querySelector('#df-6c23ee72-b43d-451e-9b6c-3bc435ee0c67');\n",
              "          const dataTable =\n",
              "            await google.colab.kernel.invokeFunction('convertToInteractive',\n",
              "                                                     [key], {});\n",
              "          if (!dataTable) return;\n",
              "\n",
              "          const docLinkHtml = 'Like what you see? Visit the ' +\n",
              "            '<a target=\"_blank\" href=https://colab.research.google.com/notebooks/data_table.ipynb>data table notebook</a>'\n",
              "            + ' to learn more about interactive tables.';\n",
              "          element.innerHTML = '';\n",
              "          dataTable['output_type'] = 'display_data';\n",
              "          await google.colab.output.renderOutput(dataTable, element);\n",
              "          const docLink = document.createElement('div');\n",
              "          docLink.innerHTML = docLinkHtml;\n",
              "          element.appendChild(docLink);\n",
              "        }\n",
              "      </script>\n",
              "    </div>\n",
              "  </div>\n",
              "  "
            ]
          },
          "metadata": {},
          "execution_count": 18
        }
      ],
      "source": [
        "# lemmatisasi\n",
        "from nltk.corpus import wordnet\n",
        "lemmatizer = WordNetLemmatizer()\n",
        "wordnet_map = {\"N\":wordnet.NOUN, \"V\":wordnet.VERB, \"J\":wordnet.ADJ, \"R\":wordnet.ADV}\n",
        "def lemmatize_words(text):\n",
        "    pos_tagged_text = nltk.pos_tag(text.split())\n",
        "    return \" \".join([lemmatizer.lemmatize(word, wordnet_map.get(pos[0], wordnet.NOUN)) for word, pos in pos_tagged_text])\n",
        "\n",
        "data[\"text_terlemmatisasi\"] = data[\"Message\"].apply(lambda text: lemmatize_words(text))\n",
        "data.head()"
      ]
    },
    {
      "cell_type": "code",
      "execution_count": null,
      "metadata": {
        "colab": {
          "base_uri": "https://localhost:8080/",
          "height": 285
        },
        "id": "lH41IXVhDdNw",
        "outputId": "5e587381-69eb-4d49-cb4e-41f97c61851e"
      },
      "outputs": [
        {
          "output_type": "execute_result",
          "data": {
            "text/plain": [
              "                                                                                               Message  \\\n",
              "0  go jurong point crazy available bugis great world la buffet cine got amore wat                        \n",
              "1  ok lar joking wif oni                                                                                 \n",
              "2  free entry wkly comp win fa cup final tkts st may text fa receive entry question std txt rate apply   \n",
              "3  dun say early hor already say                                                                         \n",
              "4  nah think goes usf lives around though                                                                \n",
              "\n",
              "                                                                                   text_terlemmatisasi  \\\n",
              "0  go jurong point crazy available bugis great world la buffet cine get amore wat                        \n",
              "1  ok lar joking wif oni                                                                                 \n",
              "2  free entry wkly comp win fa cup final tkts st may text fa receive entry question std txt rate apply   \n",
              "3  dun say early hor already say                                                                         \n",
              "4  nah think go usf life around though                                                                   \n",
              "\n",
              "                                                                                      spell_correction  \n",
              "0  go jurong point crazy available bugis great world la buffet cine get amore wat                       \n",
              "1  ok lar joking wif oni                                                                                \n",
              "2  free entry wkly comp win fa cup final tkts st may text fa receive entry question std txt rate apply  \n",
              "3  dun say early hor already say                                                                        \n",
              "4  nah think go usf life around though                                                                  "
            ],
            "text/html": [
              "\n",
              "  <div id=\"df-e2ce42d9-5dd1-4bf4-b009-27e8700ec74a\">\n",
              "    <div class=\"colab-df-container\">\n",
              "      <div>\n",
              "<style scoped>\n",
              "    .dataframe tbody tr th:only-of-type {\n",
              "        vertical-align: middle;\n",
              "    }\n",
              "\n",
              "    .dataframe tbody tr th {\n",
              "        vertical-align: top;\n",
              "    }\n",
              "\n",
              "    .dataframe thead th {\n",
              "        text-align: right;\n",
              "    }\n",
              "</style>\n",
              "<table border=\"1\" class=\"dataframe\">\n",
              "  <thead>\n",
              "    <tr style=\"text-align: right;\">\n",
              "      <th></th>\n",
              "      <th>Message</th>\n",
              "      <th>text_terlemmatisasi</th>\n",
              "      <th>spell_correction</th>\n",
              "    </tr>\n",
              "  </thead>\n",
              "  <tbody>\n",
              "    <tr>\n",
              "      <th>0</th>\n",
              "      <td>go jurong point crazy available bugis great world la buffet cine got amore wat</td>\n",
              "      <td>go jurong point crazy available bugis great world la buffet cine get amore wat</td>\n",
              "      <td>go jurong point crazy available bugis great world la buffet cine get amore wat</td>\n",
              "    </tr>\n",
              "    <tr>\n",
              "      <th>1</th>\n",
              "      <td>ok lar joking wif oni</td>\n",
              "      <td>ok lar joking wif oni</td>\n",
              "      <td>ok lar joking wif oni</td>\n",
              "    </tr>\n",
              "    <tr>\n",
              "      <th>2</th>\n",
              "      <td>free entry wkly comp win fa cup final tkts st may text fa receive entry question std txt rate apply</td>\n",
              "      <td>free entry wkly comp win fa cup final tkts st may text fa receive entry question std txt rate apply</td>\n",
              "      <td>free entry wkly comp win fa cup final tkts st may text fa receive entry question std txt rate apply</td>\n",
              "    </tr>\n",
              "    <tr>\n",
              "      <th>3</th>\n",
              "      <td>dun say early hor already say</td>\n",
              "      <td>dun say early hor already say</td>\n",
              "      <td>dun say early hor already say</td>\n",
              "    </tr>\n",
              "    <tr>\n",
              "      <th>4</th>\n",
              "      <td>nah think goes usf lives around though</td>\n",
              "      <td>nah think go usf life around though</td>\n",
              "      <td>nah think go usf life around though</td>\n",
              "    </tr>\n",
              "  </tbody>\n",
              "</table>\n",
              "</div>\n",
              "      <button class=\"colab-df-convert\" onclick=\"convertToInteractive('df-e2ce42d9-5dd1-4bf4-b009-27e8700ec74a')\"\n",
              "              title=\"Convert this dataframe to an interactive table.\"\n",
              "              style=\"display:none;\">\n",
              "        \n",
              "  <svg xmlns=\"http://www.w3.org/2000/svg\" height=\"24px\"viewBox=\"0 0 24 24\"\n",
              "       width=\"24px\">\n",
              "    <path d=\"M0 0h24v24H0V0z\" fill=\"none\"/>\n",
              "    <path d=\"M18.56 5.44l.94 2.06.94-2.06 2.06-.94-2.06-.94-.94-2.06-.94 2.06-2.06.94zm-11 1L8.5 8.5l.94-2.06 2.06-.94-2.06-.94L8.5 2.5l-.94 2.06-2.06.94zm10 10l.94 2.06.94-2.06 2.06-.94-2.06-.94-.94-2.06-.94 2.06-2.06.94z\"/><path d=\"M17.41 7.96l-1.37-1.37c-.4-.4-.92-.59-1.43-.59-.52 0-1.04.2-1.43.59L10.3 9.45l-7.72 7.72c-.78.78-.78 2.05 0 2.83L4 21.41c.39.39.9.59 1.41.59.51 0 1.02-.2 1.41-.59l7.78-7.78 2.81-2.81c.8-.78.8-2.07 0-2.86zM5.41 20L4 18.59l7.72-7.72 1.47 1.35L5.41 20z\"/>\n",
              "  </svg>\n",
              "      </button>\n",
              "      \n",
              "  <style>\n",
              "    .colab-df-container {\n",
              "      display:flex;\n",
              "      flex-wrap:wrap;\n",
              "      gap: 12px;\n",
              "    }\n",
              "\n",
              "    .colab-df-convert {\n",
              "      background-color: #E8F0FE;\n",
              "      border: none;\n",
              "      border-radius: 50%;\n",
              "      cursor: pointer;\n",
              "      display: none;\n",
              "      fill: #1967D2;\n",
              "      height: 32px;\n",
              "      padding: 0 0 0 0;\n",
              "      width: 32px;\n",
              "    }\n",
              "\n",
              "    .colab-df-convert:hover {\n",
              "      background-color: #E2EBFA;\n",
              "      box-shadow: 0px 1px 2px rgba(60, 64, 67, 0.3), 0px 1px 3px 1px rgba(60, 64, 67, 0.15);\n",
              "      fill: #174EA6;\n",
              "    }\n",
              "\n",
              "    [theme=dark] .colab-df-convert {\n",
              "      background-color: #3B4455;\n",
              "      fill: #D2E3FC;\n",
              "    }\n",
              "\n",
              "    [theme=dark] .colab-df-convert:hover {\n",
              "      background-color: #434B5C;\n",
              "      box-shadow: 0px 1px 3px 1px rgba(0, 0, 0, 0.15);\n",
              "      filter: drop-shadow(0px 1px 2px rgba(0, 0, 0, 0.3));\n",
              "      fill: #FFFFFF;\n",
              "    }\n",
              "  </style>\n",
              "\n",
              "      <script>\n",
              "        const buttonEl =\n",
              "          document.querySelector('#df-e2ce42d9-5dd1-4bf4-b009-27e8700ec74a button.colab-df-convert');\n",
              "        buttonEl.style.display =\n",
              "          google.colab.kernel.accessAllowed ? 'block' : 'none';\n",
              "\n",
              "        async function convertToInteractive(key) {\n",
              "          const element = document.querySelector('#df-e2ce42d9-5dd1-4bf4-b009-27e8700ec74a');\n",
              "          const dataTable =\n",
              "            await google.colab.kernel.invokeFunction('convertToInteractive',\n",
              "                                                     [key], {});\n",
              "          if (!dataTable) return;\n",
              "\n",
              "          const docLinkHtml = 'Like what you see? Visit the ' +\n",
              "            '<a target=\"_blank\" href=https://colab.research.google.com/notebooks/data_table.ipynb>data table notebook</a>'\n",
              "            + ' to learn more about interactive tables.';\n",
              "          element.innerHTML = '';\n",
              "          dataTable['output_type'] = 'display_data';\n",
              "          await google.colab.output.renderOutput(dataTable, element);\n",
              "          const docLink = document.createElement('div');\n",
              "          docLink.innerHTML = docLinkHtml;\n",
              "          element.appendChild(docLink);\n",
              "        }\n",
              "      </script>\n",
              "    </div>\n",
              "  </div>\n",
              "  "
            ]
          },
          "metadata": {},
          "execution_count": 19
        }
      ],
      "source": [
        "from spellchecker import SpellChecker\n",
        "spell = SpellChecker(distance=1)\n",
        "def Correct(x):\n",
        "  return spell.correction(x)\n",
        "data['spell_correction'] = data['text_terlemmatisasi'].apply(Correct)\n",
        "data.head()"
      ]
    },
    {
      "cell_type": "code",
      "source": [
        "new_data = data.copy()\n",
        "new_data.drop(columns = ['Message', 'text_terlemmatisasi'], inplace = True)\n",
        "new_data.head()"
      ],
      "metadata": {
        "colab": {
          "base_uri": "https://localhost:8080/",
          "height": 206
        },
        "id": "SZlxJt0BNl58",
        "outputId": "295bf2bf-f5d2-43d2-ee03-a7b13a9b5bc9"
      },
      "execution_count": null,
      "outputs": [
        {
          "output_type": "execute_result",
          "data": {
            "text/plain": [
              "                                                                                      spell_correction\n",
              "0  go jurong point crazy available bugis great world la buffet cine get amore wat                     \n",
              "1  ok lar joking wif oni                                                                              \n",
              "2  free entry wkly comp win fa cup final tkts st may text fa receive entry question std txt rate apply\n",
              "3  dun say early hor already say                                                                      \n",
              "4  nah think go usf life around though                                                                "
            ],
            "text/html": [
              "\n",
              "  <div id=\"df-07b08075-8496-4422-96be-5adc181c11e1\">\n",
              "    <div class=\"colab-df-container\">\n",
              "      <div>\n",
              "<style scoped>\n",
              "    .dataframe tbody tr th:only-of-type {\n",
              "        vertical-align: middle;\n",
              "    }\n",
              "\n",
              "    .dataframe tbody tr th {\n",
              "        vertical-align: top;\n",
              "    }\n",
              "\n",
              "    .dataframe thead th {\n",
              "        text-align: right;\n",
              "    }\n",
              "</style>\n",
              "<table border=\"1\" class=\"dataframe\">\n",
              "  <thead>\n",
              "    <tr style=\"text-align: right;\">\n",
              "      <th></th>\n",
              "      <th>spell_correction</th>\n",
              "    </tr>\n",
              "  </thead>\n",
              "  <tbody>\n",
              "    <tr>\n",
              "      <th>0</th>\n",
              "      <td>go jurong point crazy available bugis great world la buffet cine get amore wat</td>\n",
              "    </tr>\n",
              "    <tr>\n",
              "      <th>1</th>\n",
              "      <td>ok lar joking wif oni</td>\n",
              "    </tr>\n",
              "    <tr>\n",
              "      <th>2</th>\n",
              "      <td>free entry wkly comp win fa cup final tkts st may text fa receive entry question std txt rate apply</td>\n",
              "    </tr>\n",
              "    <tr>\n",
              "      <th>3</th>\n",
              "      <td>dun say early hor already say</td>\n",
              "    </tr>\n",
              "    <tr>\n",
              "      <th>4</th>\n",
              "      <td>nah think go usf life around though</td>\n",
              "    </tr>\n",
              "  </tbody>\n",
              "</table>\n",
              "</div>\n",
              "      <button class=\"colab-df-convert\" onclick=\"convertToInteractive('df-07b08075-8496-4422-96be-5adc181c11e1')\"\n",
              "              title=\"Convert this dataframe to an interactive table.\"\n",
              "              style=\"display:none;\">\n",
              "        \n",
              "  <svg xmlns=\"http://www.w3.org/2000/svg\" height=\"24px\"viewBox=\"0 0 24 24\"\n",
              "       width=\"24px\">\n",
              "    <path d=\"M0 0h24v24H0V0z\" fill=\"none\"/>\n",
              "    <path d=\"M18.56 5.44l.94 2.06.94-2.06 2.06-.94-2.06-.94-.94-2.06-.94 2.06-2.06.94zm-11 1L8.5 8.5l.94-2.06 2.06-.94-2.06-.94L8.5 2.5l-.94 2.06-2.06.94zm10 10l.94 2.06.94-2.06 2.06-.94-2.06-.94-.94-2.06-.94 2.06-2.06.94z\"/><path d=\"M17.41 7.96l-1.37-1.37c-.4-.4-.92-.59-1.43-.59-.52 0-1.04.2-1.43.59L10.3 9.45l-7.72 7.72c-.78.78-.78 2.05 0 2.83L4 21.41c.39.39.9.59 1.41.59.51 0 1.02-.2 1.41-.59l7.78-7.78 2.81-2.81c.8-.78.8-2.07 0-2.86zM5.41 20L4 18.59l7.72-7.72 1.47 1.35L5.41 20z\"/>\n",
              "  </svg>\n",
              "      </button>\n",
              "      \n",
              "  <style>\n",
              "    .colab-df-container {\n",
              "      display:flex;\n",
              "      flex-wrap:wrap;\n",
              "      gap: 12px;\n",
              "    }\n",
              "\n",
              "    .colab-df-convert {\n",
              "      background-color: #E8F0FE;\n",
              "      border: none;\n",
              "      border-radius: 50%;\n",
              "      cursor: pointer;\n",
              "      display: none;\n",
              "      fill: #1967D2;\n",
              "      height: 32px;\n",
              "      padding: 0 0 0 0;\n",
              "      width: 32px;\n",
              "    }\n",
              "\n",
              "    .colab-df-convert:hover {\n",
              "      background-color: #E2EBFA;\n",
              "      box-shadow: 0px 1px 2px rgba(60, 64, 67, 0.3), 0px 1px 3px 1px rgba(60, 64, 67, 0.15);\n",
              "      fill: #174EA6;\n",
              "    }\n",
              "\n",
              "    [theme=dark] .colab-df-convert {\n",
              "      background-color: #3B4455;\n",
              "      fill: #D2E3FC;\n",
              "    }\n",
              "\n",
              "    [theme=dark] .colab-df-convert:hover {\n",
              "      background-color: #434B5C;\n",
              "      box-shadow: 0px 1px 3px 1px rgba(0, 0, 0, 0.15);\n",
              "      filter: drop-shadow(0px 1px 2px rgba(0, 0, 0, 0.3));\n",
              "      fill: #FFFFFF;\n",
              "    }\n",
              "  </style>\n",
              "\n",
              "      <script>\n",
              "        const buttonEl =\n",
              "          document.querySelector('#df-07b08075-8496-4422-96be-5adc181c11e1 button.colab-df-convert');\n",
              "        buttonEl.style.display =\n",
              "          google.colab.kernel.accessAllowed ? 'block' : 'none';\n",
              "\n",
              "        async function convertToInteractive(key) {\n",
              "          const element = document.querySelector('#df-07b08075-8496-4422-96be-5adc181c11e1');\n",
              "          const dataTable =\n",
              "            await google.colab.kernel.invokeFunction('convertToInteractive',\n",
              "                                                     [key], {});\n",
              "          if (!dataTable) return;\n",
              "\n",
              "          const docLinkHtml = 'Like what you see? Visit the ' +\n",
              "            '<a target=\"_blank\" href=https://colab.research.google.com/notebooks/data_table.ipynb>data table notebook</a>'\n",
              "            + ' to learn more about interactive tables.';\n",
              "          element.innerHTML = '';\n",
              "          dataTable['output_type'] = 'display_data';\n",
              "          await google.colab.output.renderOutput(dataTable, element);\n",
              "          const docLink = document.createElement('div');\n",
              "          docLink.innerHTML = docLinkHtml;\n",
              "          element.appendChild(docLink);\n",
              "        }\n",
              "      </script>\n",
              "    </div>\n",
              "  </div>\n",
              "  "
            ]
          },
          "metadata": {},
          "execution_count": 20
        }
      ]
    },
    {
      "cell_type": "markdown",
      "source": [
        "## 5. Text Polarity"
      ],
      "metadata": {
        "id": "u2j0yEvSQQ7f"
      }
    },
    {
      "cell_type": "code",
      "source": [
        "sentiment=[]\n",
        "subjectivity=[]\n",
        "sentiment_score=[]\n",
        "for i in new_data['spell_correction'].values:\n",
        "    Tweet = textblob.TextBlob(i)\n",
        "    sentiment_score.append(Tweet.sentiment[0])\n",
        "    if Tweet.sentiment[0]<0:\n",
        "        sentiment.append('negatif')\n",
        "    elif Tweet.sentiment[0]>0:\n",
        "        sentiment.append('positif')\n",
        "    else:\n",
        "        sentiment.append('netral')\n",
        "    subjectivity.append(Tweet.sentiment[1])"
      ],
      "metadata": {
        "id": "qp0znHKYP1V9"
      },
      "execution_count": null,
      "outputs": []
    },
    {
      "cell_type": "code",
      "source": [
        "new_data['Sentiment Score']=sentiment_score\n",
        "new_data['Subjectivity']=subjectivity\n",
        "new_data['Overall_Sentiment']=sentiment"
      ],
      "metadata": {
        "id": "n7qXZPFvQnFv"
      },
      "execution_count": null,
      "outputs": []
    },
    {
      "cell_type": "code",
      "source": [
        "new_data.head(10)"
      ],
      "metadata": {
        "colab": {
          "base_uri": "https://localhost:8080/",
          "height": 407
        },
        "id": "QEdsEriOQxpm",
        "outputId": "b123e52d-d002-4dca-f7ce-b049be344828"
      },
      "execution_count": null,
      "outputs": [
        {
          "output_type": "execute_result",
          "data": {
            "text/plain": [
              "                                                                                                spell_correction  \\\n",
              "0  go jurong point crazy available bugis great world la buffet cine get amore wat                                  \n",
              "1  ok lar joking wif oni                                                                                           \n",
              "2  free entry wkly comp win fa cup final tkts st may text fa receive entry question std txt rate apply             \n",
              "3  dun say early hor already say                                                                                   \n",
              "4  nah think go usf life around though                                                                             \n",
              "5  freemsg hey darling week word back like fun still tb ok xxx std chgs send rcv                                   \n",
              "6  even brother like speak treat like aid patent                                                                   \n",
              "7  per request melle melle oru minnaminunginte nurungu vettam set callertune caller press copy friend callertune   \n",
              "8  winner value network customer select receivea prize reward claim call claim code kl valid hour                  \n",
              "9  mobile month entitle update late colour mobile camera free call mobile update co free                           \n",
              "\n",
              "   Sentiment Score  Subjectivity Overall_Sentiment  \n",
              "0  0.200000         0.683333      positif           \n",
              "1  0.500000         0.500000      positif           \n",
              "2  0.400000         0.733333      positif           \n",
              "3  0.100000         0.300000      positif           \n",
              "4  0.000000         0.000000      netral            \n",
              "5  0.266667         0.233333      positif           \n",
              "6  0.000000         0.000000      netral            \n",
              "7  0.000000         0.000000      netral            \n",
              "8  0.000000         0.000000      netral            \n",
              "9  0.166667         0.733333      positif           "
            ],
            "text/html": [
              "\n",
              "  <div id=\"df-2b1c1401-aed3-4a6e-93f8-437bc6544c22\">\n",
              "    <div class=\"colab-df-container\">\n",
              "      <div>\n",
              "<style scoped>\n",
              "    .dataframe tbody tr th:only-of-type {\n",
              "        vertical-align: middle;\n",
              "    }\n",
              "\n",
              "    .dataframe tbody tr th {\n",
              "        vertical-align: top;\n",
              "    }\n",
              "\n",
              "    .dataframe thead th {\n",
              "        text-align: right;\n",
              "    }\n",
              "</style>\n",
              "<table border=\"1\" class=\"dataframe\">\n",
              "  <thead>\n",
              "    <tr style=\"text-align: right;\">\n",
              "      <th></th>\n",
              "      <th>spell_correction</th>\n",
              "      <th>Sentiment Score</th>\n",
              "      <th>Subjectivity</th>\n",
              "      <th>Overall_Sentiment</th>\n",
              "    </tr>\n",
              "  </thead>\n",
              "  <tbody>\n",
              "    <tr>\n",
              "      <th>0</th>\n",
              "      <td>go jurong point crazy available bugis great world la buffet cine get amore wat</td>\n",
              "      <td>0.200000</td>\n",
              "      <td>0.683333</td>\n",
              "      <td>positif</td>\n",
              "    </tr>\n",
              "    <tr>\n",
              "      <th>1</th>\n",
              "      <td>ok lar joking wif oni</td>\n",
              "      <td>0.500000</td>\n",
              "      <td>0.500000</td>\n",
              "      <td>positif</td>\n",
              "    </tr>\n",
              "    <tr>\n",
              "      <th>2</th>\n",
              "      <td>free entry wkly comp win fa cup final tkts st may text fa receive entry question std txt rate apply</td>\n",
              "      <td>0.400000</td>\n",
              "      <td>0.733333</td>\n",
              "      <td>positif</td>\n",
              "    </tr>\n",
              "    <tr>\n",
              "      <th>3</th>\n",
              "      <td>dun say early hor already say</td>\n",
              "      <td>0.100000</td>\n",
              "      <td>0.300000</td>\n",
              "      <td>positif</td>\n",
              "    </tr>\n",
              "    <tr>\n",
              "      <th>4</th>\n",
              "      <td>nah think go usf life around though</td>\n",
              "      <td>0.000000</td>\n",
              "      <td>0.000000</td>\n",
              "      <td>netral</td>\n",
              "    </tr>\n",
              "    <tr>\n",
              "      <th>5</th>\n",
              "      <td>freemsg hey darling week word back like fun still tb ok xxx std chgs send rcv</td>\n",
              "      <td>0.266667</td>\n",
              "      <td>0.233333</td>\n",
              "      <td>positif</td>\n",
              "    </tr>\n",
              "    <tr>\n",
              "      <th>6</th>\n",
              "      <td>even brother like speak treat like aid patent</td>\n",
              "      <td>0.000000</td>\n",
              "      <td>0.000000</td>\n",
              "      <td>netral</td>\n",
              "    </tr>\n",
              "    <tr>\n",
              "      <th>7</th>\n",
              "      <td>per request melle melle oru minnaminunginte nurungu vettam set callertune caller press copy friend callertune</td>\n",
              "      <td>0.000000</td>\n",
              "      <td>0.000000</td>\n",
              "      <td>netral</td>\n",
              "    </tr>\n",
              "    <tr>\n",
              "      <th>8</th>\n",
              "      <td>winner value network customer select receivea prize reward claim call claim code kl valid hour</td>\n",
              "      <td>0.000000</td>\n",
              "      <td>0.000000</td>\n",
              "      <td>netral</td>\n",
              "    </tr>\n",
              "    <tr>\n",
              "      <th>9</th>\n",
              "      <td>mobile month entitle update late colour mobile camera free call mobile update co free</td>\n",
              "      <td>0.166667</td>\n",
              "      <td>0.733333</td>\n",
              "      <td>positif</td>\n",
              "    </tr>\n",
              "  </tbody>\n",
              "</table>\n",
              "</div>\n",
              "      <button class=\"colab-df-convert\" onclick=\"convertToInteractive('df-2b1c1401-aed3-4a6e-93f8-437bc6544c22')\"\n",
              "              title=\"Convert this dataframe to an interactive table.\"\n",
              "              style=\"display:none;\">\n",
              "        \n",
              "  <svg xmlns=\"http://www.w3.org/2000/svg\" height=\"24px\"viewBox=\"0 0 24 24\"\n",
              "       width=\"24px\">\n",
              "    <path d=\"M0 0h24v24H0V0z\" fill=\"none\"/>\n",
              "    <path d=\"M18.56 5.44l.94 2.06.94-2.06 2.06-.94-2.06-.94-.94-2.06-.94 2.06-2.06.94zm-11 1L8.5 8.5l.94-2.06 2.06-.94-2.06-.94L8.5 2.5l-.94 2.06-2.06.94zm10 10l.94 2.06.94-2.06 2.06-.94-2.06-.94-.94-2.06-.94 2.06-2.06.94z\"/><path d=\"M17.41 7.96l-1.37-1.37c-.4-.4-.92-.59-1.43-.59-.52 0-1.04.2-1.43.59L10.3 9.45l-7.72 7.72c-.78.78-.78 2.05 0 2.83L4 21.41c.39.39.9.59 1.41.59.51 0 1.02-.2 1.41-.59l7.78-7.78 2.81-2.81c.8-.78.8-2.07 0-2.86zM5.41 20L4 18.59l7.72-7.72 1.47 1.35L5.41 20z\"/>\n",
              "  </svg>\n",
              "      </button>\n",
              "      \n",
              "  <style>\n",
              "    .colab-df-container {\n",
              "      display:flex;\n",
              "      flex-wrap:wrap;\n",
              "      gap: 12px;\n",
              "    }\n",
              "\n",
              "    .colab-df-convert {\n",
              "      background-color: #E8F0FE;\n",
              "      border: none;\n",
              "      border-radius: 50%;\n",
              "      cursor: pointer;\n",
              "      display: none;\n",
              "      fill: #1967D2;\n",
              "      height: 32px;\n",
              "      padding: 0 0 0 0;\n",
              "      width: 32px;\n",
              "    }\n",
              "\n",
              "    .colab-df-convert:hover {\n",
              "      background-color: #E2EBFA;\n",
              "      box-shadow: 0px 1px 2px rgba(60, 64, 67, 0.3), 0px 1px 3px 1px rgba(60, 64, 67, 0.15);\n",
              "      fill: #174EA6;\n",
              "    }\n",
              "\n",
              "    [theme=dark] .colab-df-convert {\n",
              "      background-color: #3B4455;\n",
              "      fill: #D2E3FC;\n",
              "    }\n",
              "\n",
              "    [theme=dark] .colab-df-convert:hover {\n",
              "      background-color: #434B5C;\n",
              "      box-shadow: 0px 1px 3px 1px rgba(0, 0, 0, 0.15);\n",
              "      filter: drop-shadow(0px 1px 2px rgba(0, 0, 0, 0.3));\n",
              "      fill: #FFFFFF;\n",
              "    }\n",
              "  </style>\n",
              "\n",
              "      <script>\n",
              "        const buttonEl =\n",
              "          document.querySelector('#df-2b1c1401-aed3-4a6e-93f8-437bc6544c22 button.colab-df-convert');\n",
              "        buttonEl.style.display =\n",
              "          google.colab.kernel.accessAllowed ? 'block' : 'none';\n",
              "\n",
              "        async function convertToInteractive(key) {\n",
              "          const element = document.querySelector('#df-2b1c1401-aed3-4a6e-93f8-437bc6544c22');\n",
              "          const dataTable =\n",
              "            await google.colab.kernel.invokeFunction('convertToInteractive',\n",
              "                                                     [key], {});\n",
              "          if (!dataTable) return;\n",
              "\n",
              "          const docLinkHtml = 'Like what you see? Visit the ' +\n",
              "            '<a target=\"_blank\" href=https://colab.research.google.com/notebooks/data_table.ipynb>data table notebook</a>'\n",
              "            + ' to learn more about interactive tables.';\n",
              "          element.innerHTML = '';\n",
              "          dataTable['output_type'] = 'display_data';\n",
              "          await google.colab.output.renderOutput(dataTable, element);\n",
              "          const docLink = document.createElement('div');\n",
              "          docLink.innerHTML = docLinkHtml;\n",
              "          element.appendChild(docLink);\n",
              "        }\n",
              "      </script>\n",
              "    </div>\n",
              "  </div>\n",
              "  "
            ]
          },
          "metadata": {},
          "execution_count": 23
        }
      ]
    },
    {
      "cell_type": "code",
      "source": [
        "new_data.to_csv('polarity_dataset.csv', index = False, header = True)"
      ],
      "metadata": {
        "id": "5fNUFJYB2FwG"
      },
      "execution_count": null,
      "outputs": []
    },
    {
      "cell_type": "markdown",
      "source": [
        "## 6. Klasifikasi Sentiment ML"
      ],
      "metadata": {
        "id": "5hUX17imu3PM"
      }
    },
    {
      "cell_type": "code",
      "source": [
        "new_data['Overall_Sentiment'] = new_data['Overall_Sentiment'].replace(to_replace = \"positif\", value = 2)\n",
        "new_data['Overall_Sentiment'] = new_data['Overall_Sentiment'].replace(to_replace = \"negatif\", value = 0)\n",
        "new_data['Overall_Sentiment'] = new_data['Overall_Sentiment'].replace(to_replace = \"netral\", value = 1)"
      ],
      "metadata": {
        "id": "FnNBepLUBd_Y"
      },
      "execution_count": null,
      "outputs": []
    },
    {
      "cell_type": "code",
      "source": [
        "X = new_data['spell_correction'].astype(str)\n",
        "y = new_data['Overall_Sentiment']"
      ],
      "metadata": {
        "id": "-jtvYURgG1mk"
      },
      "execution_count": null,
      "outputs": []
    },
    {
      "cell_type": "code",
      "source": [
        "from sklearn.model_selection import train_test_split\n",
        "X_train, X_test, y_train, y_test = train_test_split(X, y, test_size = 0.2)"
      ],
      "metadata": {
        "id": "EvMDqxU3Ofza"
      },
      "execution_count": null,
      "outputs": []
    },
    {
      "cell_type": "code",
      "source": [
        "X_train"
      ],
      "metadata": {
        "colab": {
          "base_uri": "https://localhost:8080/"
        },
        "id": "nn2R2FSyO4KV",
        "outputId": "cc065dd9-0899-400d-8ef0-bde1151fb6ff"
      },
      "execution_count": null,
      "outputs": [
        {
          "output_type": "execute_result",
          "data": {
            "text/plain": [
              "301     awesome remember last time get somebody high first time diesel                                                                 \n",
              "3341    like make throw smoke friend car one time awesome                                                                              \n",
              "4870    tension face smile face waste face innocent face terror face cruel face romantic face lovable face decent face lt gt joker face\n",
              "932     congratulation ore mo owo wa enjoy wish many happy moment fro wherever go                                                      \n",
              "2941    new message please call                                                                                                        \n",
              "                 ...                                                                                                                   \n",
              "2814    enjoy shower possessiveness pour ur loved one bcoz world lie golden gift love truly                                            \n",
              "112     go dinner msg                                                                                                                  \n",
              "4055    dont make ne plan nxt wknd coz want u come ok                                                                                  \n",
              "3285    alrite sam nic checkin ur number                                                                                               \n",
              "2274    cold dont sad dear                                                                                                             \n",
              "Name: spell_correction, Length: 4457, dtype: object"
            ]
          },
          "metadata": {},
          "execution_count": 28
        }
      ]
    },
    {
      "cell_type": "code",
      "source": [
        "vectoriser = TfidfVectorizer(ngram_range=(1,2), max_features=500000)\n",
        "vectoriser.fit(X_train)\n",
        "print(f'Vectoriser fitted.')\n",
        "print('No. of feature_words: ', len(vectoriser.get_feature_names()))"
      ],
      "metadata": {
        "colab": {
          "base_uri": "https://localhost:8080/"
        },
        "id": "UNszxfxrPmCH",
        "outputId": "a9864c63-6793-40f1-873a-9123607a35ee"
      },
      "execution_count": null,
      "outputs": [
        {
          "output_type": "stream",
          "name": "stdout",
          "text": [
            "Vectoriser fitted.\n",
            "No. of feature_words:  30237\n"
          ]
        },
        {
          "output_type": "stream",
          "name": "stderr",
          "text": [
            "/usr/local/lib/python3.7/dist-packages/sklearn/utils/deprecation.py:87: FutureWarning: Function get_feature_names is deprecated; get_feature_names is deprecated in 1.0 and will be removed in 1.2. Please use get_feature_names_out instead.\n",
            "  warnings.warn(msg, category=FutureWarning)\n"
          ]
        }
      ]
    },
    {
      "cell_type": "code",
      "source": [
        "vector_X_train = vectoriser.transform(X_train)\n",
        "vector_X_test  = vectoriser.transform(X_test)"
      ],
      "metadata": {
        "id": "HLsMQDVJQxll"
      },
      "execution_count": null,
      "outputs": []
    },
    {
      "cell_type": "code",
      "source": [
        "from sklearn.naive_bayes import BernoulliNB\n",
        "from sklearn.metrics import confusion_matrix, classification_report\n",
        "\n",
        "BNBmodel = BernoulliNB(alpha = 1)\n",
        "BNBmodel.fit(vector_X_train, y_train)\n",
        "pred_1 = BNBmodel.predict(vector_X_test)\n",
        "print(classification_report(y_test, pred_1)) "
      ],
      "metadata": {
        "colab": {
          "base_uri": "https://localhost:8080/"
        },
        "id": "WOo9fXfiQ8cw",
        "outputId": "9c4b1985-0b02-401e-a951-3196233c8ee3"
      },
      "execution_count": null,
      "outputs": [
        {
          "output_type": "stream",
          "name": "stdout",
          "text": [
            "              precision    recall  f1-score   support\n",
            "\n",
            "           0       1.00      0.04      0.08       149\n",
            "           1       0.56      0.98      0.71       477\n",
            "           2       0.89      0.49      0.63       489\n",
            "\n",
            "    accuracy                           0.64      1115\n",
            "   macro avg       0.82      0.50      0.47      1115\n",
            "weighted avg       0.76      0.64      0.59      1115\n",
            "\n"
          ]
        }
      ]
    },
    {
      "cell_type": "code",
      "source": [
        "from xgboost import XGBClassifier\n",
        "\n",
        "model_xgb = XGBClassifier()\n",
        "model_xgb.fit(vector_X_train, y_train)\n",
        "pred_2 = model_xgb.predict(vector_X_test)\n",
        "print(classification_report(y_test, pred_2)) "
      ],
      "metadata": {
        "colab": {
          "base_uri": "https://localhost:8080/"
        },
        "id": "rbEeLWk7RJT1",
        "outputId": "98044d01-0a8a-4728-d69c-69753f27aeb9"
      },
      "execution_count": null,
      "outputs": [
        {
          "output_type": "stream",
          "name": "stdout",
          "text": [
            "              precision    recall  f1-score   support\n",
            "\n",
            "           0       0.88      0.33      0.48       149\n",
            "           1       0.69      0.99      0.81       477\n",
            "           2       0.96      0.74      0.84       489\n",
            "\n",
            "    accuracy                           0.79      1115\n",
            "   macro avg       0.84      0.69      0.71      1115\n",
            "weighted avg       0.83      0.79      0.78      1115\n",
            "\n"
          ]
        }
      ]
    },
    {
      "cell_type": "code",
      "source": [
        "from sklearn.linear_model import LogisticRegression\n",
        "\n",
        "LRmodel = LogisticRegression(C = 2, max_iter = 1000, n_jobs=-1)\n",
        "LRmodel.fit(vector_X_train, y_train)\n",
        "pred_3 = LRmodel.predict(vector_X_test)\n",
        "print(classification_report(y_test, pred_3))"
      ],
      "metadata": {
        "colab": {
          "base_uri": "https://localhost:8080/"
        },
        "id": "RiYUo43BZbF7",
        "outputId": "e9313f66-e419-469d-d3a9-c0cb05cc61f5"
      },
      "execution_count": null,
      "outputs": [
        {
          "output_type": "stream",
          "name": "stdout",
          "text": [
            "              precision    recall  f1-score   support\n",
            "\n",
            "           0       0.94      0.39      0.55       149\n",
            "           1       0.80      0.89      0.84       477\n",
            "           2       0.84      0.90      0.87       489\n",
            "\n",
            "    accuracy                           0.83      1115\n",
            "   macro avg       0.86      0.73      0.75      1115\n",
            "weighted avg       0.84      0.83      0.81      1115\n",
            "\n"
          ]
        }
      ]
    },
    {
      "cell_type": "markdown",
      "source": [
        "## 7. Klasifikasi sentiment Deep Learning RNN Model : LSTM"
      ],
      "metadata": {
        "id": "gu1ZkT0a3Wj2"
      }
    },
    {
      "cell_type": "code",
      "source": [
        "deep_data = pd.read_csv('polarity_dataset.csv')\n",
        "deep_data.head()"
      ],
      "metadata": {
        "colab": {
          "base_uri": "https://localhost:8080/",
          "height": 206
        },
        "id": "H83np-U5BB7Z",
        "outputId": "137124f8-5c52-457e-9baf-0e4323e0a2cf"
      },
      "execution_count": null,
      "outputs": [
        {
          "output_type": "execute_result",
          "data": {
            "text/plain": [
              "                                                                                      spell_correction  \\\n",
              "0  go jurong point crazy available bugis great world la buffet cine get amore wat                        \n",
              "1  ok lar joking wif oni                                                                                 \n",
              "2  free entry wkly comp win fa cup final tkts st may text fa receive entry question std txt rate apply   \n",
              "3  dun say early hor already say                                                                         \n",
              "4  nah think go usf life around though                                                                   \n",
              "\n",
              "   Sentiment Score  Subjectivity Overall_Sentiment  \n",
              "0  0.2              0.683333      positif           \n",
              "1  0.5              0.500000      positif           \n",
              "2  0.4              0.733333      positif           \n",
              "3  0.1              0.300000      positif           \n",
              "4  0.0              0.000000      netral            "
            ],
            "text/html": [
              "\n",
              "  <div id=\"df-e46960e8-9280-4f89-9c00-34b5a600f141\">\n",
              "    <div class=\"colab-df-container\">\n",
              "      <div>\n",
              "<style scoped>\n",
              "    .dataframe tbody tr th:only-of-type {\n",
              "        vertical-align: middle;\n",
              "    }\n",
              "\n",
              "    .dataframe tbody tr th {\n",
              "        vertical-align: top;\n",
              "    }\n",
              "\n",
              "    .dataframe thead th {\n",
              "        text-align: right;\n",
              "    }\n",
              "</style>\n",
              "<table border=\"1\" class=\"dataframe\">\n",
              "  <thead>\n",
              "    <tr style=\"text-align: right;\">\n",
              "      <th></th>\n",
              "      <th>spell_correction</th>\n",
              "      <th>Sentiment Score</th>\n",
              "      <th>Subjectivity</th>\n",
              "      <th>Overall_Sentiment</th>\n",
              "    </tr>\n",
              "  </thead>\n",
              "  <tbody>\n",
              "    <tr>\n",
              "      <th>0</th>\n",
              "      <td>go jurong point crazy available bugis great world la buffet cine get amore wat</td>\n",
              "      <td>0.2</td>\n",
              "      <td>0.683333</td>\n",
              "      <td>positif</td>\n",
              "    </tr>\n",
              "    <tr>\n",
              "      <th>1</th>\n",
              "      <td>ok lar joking wif oni</td>\n",
              "      <td>0.5</td>\n",
              "      <td>0.500000</td>\n",
              "      <td>positif</td>\n",
              "    </tr>\n",
              "    <tr>\n",
              "      <th>2</th>\n",
              "      <td>free entry wkly comp win fa cup final tkts st may text fa receive entry question std txt rate apply</td>\n",
              "      <td>0.4</td>\n",
              "      <td>0.733333</td>\n",
              "      <td>positif</td>\n",
              "    </tr>\n",
              "    <tr>\n",
              "      <th>3</th>\n",
              "      <td>dun say early hor already say</td>\n",
              "      <td>0.1</td>\n",
              "      <td>0.300000</td>\n",
              "      <td>positif</td>\n",
              "    </tr>\n",
              "    <tr>\n",
              "      <th>4</th>\n",
              "      <td>nah think go usf life around though</td>\n",
              "      <td>0.0</td>\n",
              "      <td>0.000000</td>\n",
              "      <td>netral</td>\n",
              "    </tr>\n",
              "  </tbody>\n",
              "</table>\n",
              "</div>\n",
              "      <button class=\"colab-df-convert\" onclick=\"convertToInteractive('df-e46960e8-9280-4f89-9c00-34b5a600f141')\"\n",
              "              title=\"Convert this dataframe to an interactive table.\"\n",
              "              style=\"display:none;\">\n",
              "        \n",
              "  <svg xmlns=\"http://www.w3.org/2000/svg\" height=\"24px\"viewBox=\"0 0 24 24\"\n",
              "       width=\"24px\">\n",
              "    <path d=\"M0 0h24v24H0V0z\" fill=\"none\"/>\n",
              "    <path d=\"M18.56 5.44l.94 2.06.94-2.06 2.06-.94-2.06-.94-.94-2.06-.94 2.06-2.06.94zm-11 1L8.5 8.5l.94-2.06 2.06-.94-2.06-.94L8.5 2.5l-.94 2.06-2.06.94zm10 10l.94 2.06.94-2.06 2.06-.94-2.06-.94-.94-2.06-.94 2.06-2.06.94z\"/><path d=\"M17.41 7.96l-1.37-1.37c-.4-.4-.92-.59-1.43-.59-.52 0-1.04.2-1.43.59L10.3 9.45l-7.72 7.72c-.78.78-.78 2.05 0 2.83L4 21.41c.39.39.9.59 1.41.59.51 0 1.02-.2 1.41-.59l7.78-7.78 2.81-2.81c.8-.78.8-2.07 0-2.86zM5.41 20L4 18.59l7.72-7.72 1.47 1.35L5.41 20z\"/>\n",
              "  </svg>\n",
              "      </button>\n",
              "      \n",
              "  <style>\n",
              "    .colab-df-container {\n",
              "      display:flex;\n",
              "      flex-wrap:wrap;\n",
              "      gap: 12px;\n",
              "    }\n",
              "\n",
              "    .colab-df-convert {\n",
              "      background-color: #E8F0FE;\n",
              "      border: none;\n",
              "      border-radius: 50%;\n",
              "      cursor: pointer;\n",
              "      display: none;\n",
              "      fill: #1967D2;\n",
              "      height: 32px;\n",
              "      padding: 0 0 0 0;\n",
              "      width: 32px;\n",
              "    }\n",
              "\n",
              "    .colab-df-convert:hover {\n",
              "      background-color: #E2EBFA;\n",
              "      box-shadow: 0px 1px 2px rgba(60, 64, 67, 0.3), 0px 1px 3px 1px rgba(60, 64, 67, 0.15);\n",
              "      fill: #174EA6;\n",
              "    }\n",
              "\n",
              "    [theme=dark] .colab-df-convert {\n",
              "      background-color: #3B4455;\n",
              "      fill: #D2E3FC;\n",
              "    }\n",
              "\n",
              "    [theme=dark] .colab-df-convert:hover {\n",
              "      background-color: #434B5C;\n",
              "      box-shadow: 0px 1px 3px 1px rgba(0, 0, 0, 0.15);\n",
              "      filter: drop-shadow(0px 1px 2px rgba(0, 0, 0, 0.3));\n",
              "      fill: #FFFFFF;\n",
              "    }\n",
              "  </style>\n",
              "\n",
              "      <script>\n",
              "        const buttonEl =\n",
              "          document.querySelector('#df-e46960e8-9280-4f89-9c00-34b5a600f141 button.colab-df-convert');\n",
              "        buttonEl.style.display =\n",
              "          google.colab.kernel.accessAllowed ? 'block' : 'none';\n",
              "\n",
              "        async function convertToInteractive(key) {\n",
              "          const element = document.querySelector('#df-e46960e8-9280-4f89-9c00-34b5a600f141');\n",
              "          const dataTable =\n",
              "            await google.colab.kernel.invokeFunction('convertToInteractive',\n",
              "                                                     [key], {});\n",
              "          if (!dataTable) return;\n",
              "\n",
              "          const docLinkHtml = 'Like what you see? Visit the ' +\n",
              "            '<a target=\"_blank\" href=https://colab.research.google.com/notebooks/data_table.ipynb>data table notebook</a>'\n",
              "            + ' to learn more about interactive tables.';\n",
              "          element.innerHTML = '';\n",
              "          dataTable['output_type'] = 'display_data';\n",
              "          await google.colab.output.renderOutput(dataTable, element);\n",
              "          const docLink = document.createElement('div');\n",
              "          docLink.innerHTML = docLinkHtml;\n",
              "          element.appendChild(docLink);\n",
              "        }\n",
              "      </script>\n",
              "    </div>\n",
              "  </div>\n",
              "  "
            ]
          },
          "metadata": {},
          "execution_count": 34
        }
      ]
    },
    {
      "cell_type": "code",
      "source": [
        "lb=LabelEncoder()\n",
        "deep_data['Overall_Sentiment'] = lb.fit_transform(deep_data['Overall_Sentiment'])"
      ],
      "metadata": {
        "id": "H0oFa9ZnBZhD"
      },
      "execution_count": null,
      "outputs": []
    },
    {
      "cell_type": "code",
      "source": [
        "tokenizer1 = Tokenizer(num_words=500, split=' ') \n",
        "tokenizer1.fit_on_texts(deep_data['spell_correction'].values)"
      ],
      "metadata": {
        "id": "gGbYzXv67Krs"
      },
      "execution_count": null,
      "outputs": []
    },
    {
      "cell_type": "code",
      "source": [
        "X = tokenizer1.texts_to_sequences(deep_data['spell_correction'].values)\n",
        "X = pad_sequences(X)"
      ],
      "metadata": {
        "id": "Favwhp9jZ4LI"
      },
      "execution_count": null,
      "outputs": []
    },
    {
      "cell_type": "code",
      "source": [
        "METRICS = [tf.keras.metrics.BinaryAccuracy(name = 'accuracy'), \n",
        "           tf.keras.metrics.Precision(name = 'precision'), \n",
        "           tf.keras.metrics.Recall(name = 'recall'), \n",
        "           tf.keras.metrics.FalseNegatives(name = 'False Negative'),\n",
        "           tf.keras.metrics.FalsePositives(name = 'False Positif'),\n",
        "           tf.keras.metrics.TruePositives(name = 'True Positif'),\n",
        "           tf.keras.metrics.TrueNegatives(name = 'True Negative'),\n",
        "           tf.keras.metrics.MeanSquaredError(name = 'MSE')]"
      ],
      "metadata": {
        "id": "6Sp9nieAlP9p"
      },
      "execution_count": null,
      "outputs": []
    },
    {
      "cell_type": "code",
      "source": [
        "model = Sequential()\n",
        "model.add(Embedding(500, 120, input_length = X.shape[1]))\n",
        "model.add(SpatialDropout1D(0.4))\n",
        "model.add(LSTM(176, dropout=0.2, recurrent_dropout=0.2))\n",
        "model.add(Dense(3,activation='softmax'))\n",
        "model.add(Flatten())\n",
        "model.compile(loss = 'categorical_crossentropy', optimizer='adam', metrics = METRICS)\n",
        "print(model.summary())"
      ],
      "metadata": {
        "colab": {
          "base_uri": "https://localhost:8080/"
        },
        "id": "hETtMJX38RjP",
        "outputId": "f4a37f80-fbfc-4699-b027-a4a2c7634f0b"
      },
      "execution_count": null,
      "outputs": [
        {
          "output_type": "stream",
          "name": "stdout",
          "text": [
            "Model: \"sequential_53\"\n",
            "_________________________________________________________________\n",
            " Layer (type)                Output Shape              Param #   \n",
            "=================================================================\n",
            " embedding_40 (Embedding)    (None, 53, 120)           60000     \n",
            "                                                                 \n",
            " spatial_dropout1d_4 (Spatia  (None, 53, 120)          0         \n",
            " lDropout1D)                                                     \n",
            "                                                                 \n",
            " lstm_16 (LSTM)              (None, 176)               209088    \n",
            "                                                                 \n",
            " dense_49 (Dense)            (None, 3)                 531       \n",
            "                                                                 \n",
            " flatten_23 (Flatten)        (None, 3)                 0         \n",
            "                                                                 \n",
            "=================================================================\n",
            "Total params: 269,619\n",
            "Trainable params: 269,619\n",
            "Non-trainable params: 0\n",
            "_________________________________________________________________\n",
            "None\n"
          ]
        }
      ]
    },
    {
      "cell_type": "code",
      "source": [
        "y=pd.get_dummies(deep_data['Overall_Sentiment'])\n",
        "X_train2, X_test2, y_train2, y_test2 = train_test_split(X,y, test_size = 0.2, random_state = 42)"
      ],
      "metadata": {
        "id": "WsJkHHSGAhkV"
      },
      "execution_count": null,
      "outputs": []
    },
    {
      "cell_type": "code",
      "source": [
        "batch_size=32\n",
        "model.fit(X_train2, y_train2, epochs = 10, batch_size=batch_size, verbose = 'auto')"
      ],
      "metadata": {
        "colab": {
          "base_uri": "https://localhost:8080/"
        },
        "id": "_5og47HX-bv9",
        "outputId": "a8244caf-3933-4f35-a85d-a4ecc37cc677"
      },
      "execution_count": null,
      "outputs": [
        {
          "output_type": "stream",
          "name": "stdout",
          "text": [
            "Epoch 1/10\n",
            "140/140 [==============================] - 46s 297ms/step - loss: 0.8395 - accuracy: 0.7593 - precision: 0.7180 - recall: 0.4575 - False Negative: 2418.0000 - False Positif: 801.0000 - True Positif: 2039.0000 - True Negative: 8113.0000 - MSE: 0.1639\n",
            "Epoch 2/10\n",
            "140/140 [==============================] - 36s 254ms/step - loss: 0.4853 - accuracy: 0.8919 - precision: 0.8634 - recall: 0.8026 - False Negative: 880.0000 - False Positif: 566.0000 - True Positif: 3577.0000 - True Negative: 8348.0000 - MSE: 0.0854\n",
            "Epoch 3/10\n",
            "140/140 [==============================] - 36s 260ms/step - loss: 0.3754 - accuracy: 0.9203 - precision: 0.8908 - recall: 0.8674 - False Negative: 591.0000 - False Positif: 474.0000 - True Positif: 3866.0000 - True Negative: 8440.0000 - MSE: 0.0645\n",
            "Epoch 4/10\n",
            "140/140 [==============================] - 36s 254ms/step - loss: 0.3456 - accuracy: 0.9287 - precision: 0.8996 - recall: 0.8849 - False Negative: 513.0000 - False Positif: 440.0000 - True Positif: 3944.0000 - True Negative: 8474.0000 - MSE: 0.0587\n",
            "Epoch 5/10\n",
            "140/140 [==============================] - 36s 257ms/step - loss: 0.3298 - accuracy: 0.9307 - precision: 0.9034 - recall: 0.8871 - False Negative: 503.0000 - False Positif: 423.0000 - True Positif: 3954.0000 - True Negative: 8491.0000 - MSE: 0.0565\n",
            "Epoch 6/10\n",
            "140/140 [==============================] - 35s 252ms/step - loss: 0.3192 - accuracy: 0.9307 - precision: 0.9023 - recall: 0.8885 - False Negative: 497.0000 - False Positif: 429.0000 - True Positif: 3960.0000 - True Negative: 8485.0000 - MSE: 0.0551\n",
            "Epoch 7/10\n",
            "140/140 [==============================] - 35s 249ms/step - loss: 0.3055 - accuracy: 0.9348 - precision: 0.9090 - recall: 0.8939 - False Negative: 473.0000 - False Positif: 399.0000 - True Positif: 3984.0000 - True Negative: 8515.0000 - MSE: 0.0528\n",
            "Epoch 8/10\n",
            "140/140 [==============================] - 35s 250ms/step - loss: 0.2965 - accuracy: 0.9353 - precision: 0.9106 - recall: 0.8937 - False Negative: 474.0000 - False Positif: 391.0000 - True Positif: 3983.0000 - True Negative: 8523.0000 - MSE: 0.0510\n",
            "Epoch 9/10\n",
            "140/140 [==============================] - 36s 253ms/step - loss: 0.2898 - accuracy: 0.9381 - precision: 0.9146 - recall: 0.8984 - False Negative: 453.0000 - False Positif: 374.0000 - True Positif: 4004.0000 - True Negative: 8540.0000 - MSE: 0.0501\n",
            "Epoch 10/10\n",
            "140/140 [==============================] - 35s 252ms/step - loss: 0.2783 - accuracy: 0.9401 - precision: 0.9168 - recall: 0.9022 - False Negative: 436.0000 - False Positif: 365.0000 - True Positif: 4021.0000 - True Negative: 8549.0000 - MSE: 0.0480\n"
          ]
        },
        {
          "output_type": "execute_result",
          "data": {
            "text/plain": [
              "<keras.callbacks.History at 0x7f7fb5681450>"
            ]
          },
          "metadata": {},
          "execution_count": 171
        }
      ]
    },
    {
      "cell_type": "code",
      "source": [
        "model.evaluate(X_test2,y_test2)"
      ],
      "metadata": {
        "colab": {
          "base_uri": "https://localhost:8080/"
        },
        "id": "qFA2HlsH-5A_",
        "outputId": "e64c7d25-da74-4011-96c6-63068e75424d"
      },
      "execution_count": null,
      "outputs": [
        {
          "output_type": "stream",
          "name": "stdout",
          "text": [
            "35/35 [==============================] - 5s 75ms/step - loss: 0.5229 - accuracy: 0.9007 - precision: 0.8569 - recall: 0.8430 - False Negative: 175.0000 - False Positif: 157.0000 - True Positif: 940.0000 - True Negative: 2073.0000 - MSE: 0.0847\n"
          ]
        },
        {
          "output_type": "execute_result",
          "data": {
            "text/plain": [
              "[0.5229068398475647,\n",
              " 0.9007474184036255,\n",
              " 0.8568823933601379,\n",
              " 0.8430493474006653,\n",
              " 175.0,\n",
              " 157.0,\n",
              " 940.0,\n",
              " 2073.0,\n",
              " 0.08469263464212418]"
            ]
          },
          "metadata": {},
          "execution_count": 172
        }
      ]
    },
    {
      "cell_type": "code",
      "source": [
        "# test predict new data \n",
        "new_data_pred = ['sorry i go to beach today']\n",
        "new_data_pred = tokenizer1.texts_to_sequences(new_data_pred)\n",
        "new_data_pred = pad_sequences(new_data_pred, maxlen=53, dtype='int32', value=0)\n",
        "print(new_data_pred)"
      ],
      "metadata": {
        "colab": {
          "base_uri": "https://localhost:8080/"
        },
        "id": "VSMdHOaEFgh1",
        "outputId": "c0b89423-2259-4289-b1dd-75a028650ebb"
      },
      "execution_count": null,
      "outputs": [
        {
          "output_type": "stream",
          "name": "stdout",
          "text": [
            "[[ 0  0  0  0  0  0  0  0  0  0  0  0  0  0  0  0  0  0  0  0  0  0  0  0\n",
            "   0  0  0  0  0  0  0  0  0  0  0  0  0  0  0  0  0  0  0  0  0  0  0  0\n",
            "   0  0 33  3 27]]\n"
          ]
        }
      ]
    },
    {
      "cell_type": "code",
      "source": [
        "sentiment = model.predict(new_data_pred,batch_size=4,verbose = 2)[0]\n",
        "if(np.argmax(sentiment) == 0):\n",
        "    print(\"negative\")\n",
        "elif (np.argmax(sentiment) == 1):\n",
        "    print(\"positive\")"
      ],
      "metadata": {
        "colab": {
          "base_uri": "https://localhost:8080/"
        },
        "id": "xR7Q30JcIn-9",
        "outputId": "cd0c13ca-1423-4c6c-9911-530f2a89d3e8"
      },
      "execution_count": null,
      "outputs": [
        {
          "output_type": "stream",
          "name": "stdout",
          "text": [
            "1/1 - 1s - 760ms/epoch - 760ms/step\n",
            "negative\n"
          ]
        }
      ]
    },
    {
      "cell_type": "markdown",
      "source": [
        "## 8. Klasifikasi menggunakan Deep Learning RNN Model : Bidirectional "
      ],
      "metadata": {
        "id": "7kppqb-jSae6"
      }
    },
    {
      "cell_type": "code",
      "source": [
        "model2 = Sequential()\n",
        "model2.add(Embedding(500, 120, input_length = X.shape[1]))\n",
        "model2.add(Bidirectional(LSTM(units=176, return_sequences=True)))\n",
        "model2.add(Bidirectional(LSTM(units=176, return_sequences=False)))\n",
        "model2.add(Dense(3,activation='sigmoid'))\n",
        "model2.add(Flatten())\n",
        "model2.compile(loss = 'categorical_crossentropy', optimizer='adam', metrics = METRICS)\n",
        "print(model2.summary())"
      ],
      "metadata": {
        "colab": {
          "base_uri": "https://localhost:8080/"
        },
        "id": "7-5rH8ElIaZe",
        "outputId": "9af87301-d275-41ed-d4e8-29658913c858"
      },
      "execution_count": null,
      "outputs": [
        {
          "output_type": "stream",
          "name": "stdout",
          "text": [
            "Model: \"sequential_54\"\n",
            "_________________________________________________________________\n",
            " Layer (type)                Output Shape              Param #   \n",
            "=================================================================\n",
            " embedding_41 (Embedding)    (None, 53, 120)           60000     \n",
            "                                                                 \n",
            " bidirectional_8 (Bidirectio  (None, 53, 352)          418176    \n",
            " nal)                                                            \n",
            "                                                                 \n",
            " bidirectional_9 (Bidirectio  (None, 352)              744832    \n",
            " nal)                                                            \n",
            "                                                                 \n",
            " dense_50 (Dense)            (None, 3)                 1059      \n",
            "                                                                 \n",
            " flatten_24 (Flatten)        (None, 3)                 0         \n",
            "                                                                 \n",
            "=================================================================\n",
            "Total params: 1,224,067\n",
            "Trainable params: 1,224,067\n",
            "Non-trainable params: 0\n",
            "_________________________________________________________________\n",
            "None\n"
          ]
        }
      ]
    },
    {
      "cell_type": "code",
      "source": [
        "batch_size=32\n",
        "model2.fit(X_train2, y_train2, epochs = 10, batch_size=batch_size, verbose = 'auto')"
      ],
      "metadata": {
        "colab": {
          "base_uri": "https://localhost:8080/"
        },
        "id": "lXEtyNCySrGq",
        "outputId": "917587f7-2dfb-40bd-bcac-959addffd746"
      },
      "execution_count": null,
      "outputs": [
        {
          "output_type": "stream",
          "name": "stdout",
          "text": [
            "Epoch 1/10\n",
            "140/140 [==============================] - 103s 649ms/step - loss: 0.7734 - accuracy: 0.7905 - precision: 0.6696 - recall: 0.7335 - False Negative: 1485.0000 - False Positif: 2017.0000 - True Positif: 4087.0000 - True Negative: 9127.0000 - MSE: 0.1414\n",
            "Epoch 2/10\n",
            "140/140 [==============================] - 88s 630ms/step - loss: 0.4498 - accuracy: 0.8978 - precision: 0.8821 - recall: 0.8005 - False Negative: 889.0000 - False Positif: 477.0000 - True Positif: 3568.0000 - True Negative: 8437.0000 - MSE: 0.0815\n",
            "Epoch 3/10\n",
            "140/140 [==============================] - 88s 632ms/step - loss: 0.3585 - accuracy: 0.9212 - precision: 0.9066 - recall: 0.8515 - False Negative: 662.0000 - False Positif: 391.0000 - True Positif: 3795.0000 - True Negative: 8523.0000 - MSE: 0.0655\n",
            "Epoch 4/10\n",
            "140/140 [==============================] - 89s 637ms/step - loss: 0.3349 - accuracy: 0.9258 - precision: 0.9152 - recall: 0.8569 - False Negative: 638.0000 - False Positif: 354.0000 - True Positif: 3819.0000 - True Negative: 8560.0000 - MSE: 0.0623\n",
            "Epoch 5/10\n",
            "140/140 [==============================] - 89s 635ms/step - loss: 0.3231 - accuracy: 0.9283 - precision: 0.9184 - recall: 0.8613 - False Negative: 618.0000 - False Positif: 341.0000 - True Positif: 3839.0000 - True Negative: 8573.0000 - MSE: 0.0599\n",
            "Epoch 6/10\n",
            "140/140 [==============================] - 87s 623ms/step - loss: 0.3052 - accuracy: 0.9324 - precision: 0.9239 - recall: 0.8687 - False Negative: 585.0000 - False Positif: 319.0000 - True Positif: 3872.0000 - True Negative: 8595.0000 - MSE: 0.0559\n",
            "Epoch 7/10\n",
            "140/140 [==============================] - 89s 634ms/step - loss: 0.2923 - accuracy: 0.9326 - precision: 0.9299 - recall: 0.8629 - False Negative: 611.0000 - False Positif: 290.0000 - True Positif: 3846.0000 - True Negative: 8624.0000 - MSE: 0.0552\n",
            "Epoch 8/10\n",
            "140/140 [==============================] - 92s 656ms/step - loss: 0.2687 - accuracy: 0.9373 - precision: 0.9378 - recall: 0.8694 - False Negative: 582.0000 - False Positif: 257.0000 - True Positif: 3875.0000 - True Negative: 8657.0000 - MSE: 0.0515\n",
            "Epoch 9/10\n",
            "140/140 [==============================] - 89s 634ms/step - loss: 0.2696 - accuracy: 0.9416 - precision: 0.9362 - recall: 0.8851 - False Negative: 512.0000 - False Positif: 269.0000 - True Positif: 3945.0000 - True Negative: 8645.0000 - MSE: 0.0488\n",
            "Epoch 10/10\n",
            "140/140 [==============================] - 90s 643ms/step - loss: 0.2425 - accuracy: 0.9440 - precision: 0.9474 - recall: 0.8809 - False Negative: 531.0000 - False Positif: 218.0000 - True Positif: 3926.0000 - True Negative: 8696.0000 - MSE: 0.0466\n"
          ]
        },
        {
          "output_type": "execute_result",
          "data": {
            "text/plain": [
              "<keras.callbacks.History at 0x7f7fb5142790>"
            ]
          },
          "metadata": {},
          "execution_count": 176
        }
      ]
    },
    {
      "cell_type": "code",
      "source": [
        "model2.evaluate(X_test2,y_test2)"
      ],
      "metadata": {
        "colab": {
          "base_uri": "https://localhost:8080/"
        },
        "id": "hqmE6EWpTy-2",
        "outputId": "46b3b288-ca66-4ea0-f18b-4700b178f776"
      },
      "execution_count": null,
      "outputs": [
        {
          "output_type": "stream",
          "name": "stdout",
          "text": [
            "35/35 [==============================] - 6s 169ms/step - loss: 0.5948 - accuracy: 0.8706 - precision: 0.8487 - recall: 0.7444 - False Negative: 285.0000 - False Positif: 148.0000 - True Positif: 830.0000 - True Negative: 2082.0000 - MSE: 0.1008\n"
          ]
        },
        {
          "output_type": "execute_result",
          "data": {
            "text/plain": [
              "[0.5947661995887756,\n",
              " 0.8705530762672424,\n",
              " 0.8486707806587219,\n",
              " 0.7443946003913879,\n",
              " 285.0,\n",
              " 148.0,\n",
              " 830.0,\n",
              " 2082.0,\n",
              " 0.10075654089450836]"
            ]
          },
          "metadata": {},
          "execution_count": 178
        }
      ]
    },
    {
      "cell_type": "markdown",
      "source": [
        "## 9. Optimasi Model Bidirectional Dengan Layer Dropout"
      ],
      "metadata": {
        "id": "JrocPG3QX8Qx"
      }
    },
    {
      "cell_type": "code",
      "source": [
        "model3 = Sequential()\n",
        "model3.add(Embedding(500, 120, input_length = X.shape[1]))\n",
        "model3.add(Dropout(rate=0.4))\n",
        "model3.add(Bidirectional(LSTM(units=176, return_sequences=True)))\n",
        "model3.add(Dropout(rate=0.4))\n",
        "model3.add(Bidirectional(LSTM(units=176, return_sequences=False)))\n",
        "model3.add(Dense(3,activation='sigmoid'))\n",
        "model3.add(Flatten())\n",
        "model3.compile(loss = 'categorical_crossentropy', optimizer='adam', metrics = METRICS)\n",
        "print(model3.summary())"
      ],
      "metadata": {
        "colab": {
          "base_uri": "https://localhost:8080/"
        },
        "id": "y1n7DQBDXPvK",
        "outputId": "1535e730-d01f-4506-ae37-e85a8eb01535"
      },
      "execution_count": null,
      "outputs": [
        {
          "output_type": "stream",
          "name": "stdout",
          "text": [
            "Model: \"sequential_55\"\n",
            "_________________________________________________________________\n",
            " Layer (type)                Output Shape              Param #   \n",
            "=================================================================\n",
            " embedding_42 (Embedding)    (None, 53, 120)           60000     \n",
            "                                                                 \n",
            " dropout_44 (Dropout)        (None, 53, 120)           0         \n",
            "                                                                 \n",
            " bidirectional_10 (Bidirecti  (None, 53, 352)          418176    \n",
            " onal)                                                           \n",
            "                                                                 \n",
            " dropout_45 (Dropout)        (None, 53, 352)           0         \n",
            "                                                                 \n",
            " bidirectional_11 (Bidirecti  (None, 352)              744832    \n",
            " onal)                                                           \n",
            "                                                                 \n",
            " dense_51 (Dense)            (None, 3)                 1059      \n",
            "                                                                 \n",
            " flatten_25 (Flatten)        (None, 3)                 0         \n",
            "                                                                 \n",
            "=================================================================\n",
            "Total params: 1,224,067\n",
            "Trainable params: 1,224,067\n",
            "Non-trainable params: 0\n",
            "_________________________________________________________________\n",
            "None\n"
          ]
        }
      ]
    },
    {
      "cell_type": "code",
      "source": [
        "batch_size=32\n",
        "model3.fit(X_train2, y_train2, epochs = 10, batch_size=batch_size, verbose = 'auto')"
      ],
      "metadata": {
        "colab": {
          "base_uri": "https://localhost:8080/"
        },
        "id": "zEVKm7pzYi_C",
        "outputId": "ec84ebd3-2e98-4159-9c38-881df8f51e9b"
      },
      "execution_count": null,
      "outputs": [
        {
          "output_type": "stream",
          "name": "stdout",
          "text": [
            "Epoch 1/10\n",
            "140/140 [==============================] - 103s 660ms/step - loss: 0.7873 - accuracy: 0.7846 - precision: 0.6620 - recall: 0.7233 - False Negative: 1542.0000 - False Positif: 2058.0000 - True Positif: 4030.0000 - True Negative: 9086.0000 - MSE: 0.1478\n",
            "Epoch 2/10\n",
            "140/140 [==============================] - 91s 648ms/step - loss: 0.5079 - accuracy: 0.8830 - precision: 0.8593 - recall: 0.7759 - False Negative: 999.0000 - False Positif: 566.0000 - True Positif: 3458.0000 - True Negative: 8348.0000 - MSE: 0.0910\n",
            "Epoch 3/10\n",
            "140/140 [==============================] - 97s 690ms/step - loss: 0.4188 - accuracy: 0.9106 - precision: 0.8890 - recall: 0.8360 - False Negative: 731.0000 - False Positif: 465.0000 - True Positif: 3726.0000 - True Negative: 8449.0000 - MSE: 0.0728\n",
            "Epoch 4/10\n",
            "140/140 [==============================] - 97s 690ms/step - loss: 0.3722 - accuracy: 0.9217 - precision: 0.8989 - recall: 0.8620 - False Negative: 615.0000 - False Positif: 432.0000 - True Positif: 3842.0000 - True Negative: 8482.0000 - MSE: 0.0644\n",
            "Epoch 5/10\n",
            "140/140 [==============================] - 95s 675ms/step - loss: 0.3468 - accuracy: 0.9256 - precision: 0.9067 - recall: 0.8658 - False Negative: 598.0000 - False Positif: 397.0000 - True Positif: 3859.0000 - True Negative: 8517.0000 - MSE: 0.0601\n",
            "Epoch 6/10\n",
            "140/140 [==============================] - 95s 676ms/step - loss: 0.3261 - accuracy: 0.9289 - precision: 0.9102 - recall: 0.8728 - False Negative: 567.0000 - False Positif: 384.0000 - True Positif: 3890.0000 - True Negative: 8530.0000 - MSE: 0.0573\n",
            "Epoch 7/10\n",
            "140/140 [==============================] - 96s 685ms/step - loss: 0.3023 - accuracy: 0.9362 - precision: 0.9210 - recall: 0.8845 - False Negative: 515.0000 - False Positif: 338.0000 - True Positif: 3942.0000 - True Negative: 8576.0000 - MSE: 0.0527\n",
            "Epoch 8/10\n",
            "140/140 [==============================] - 95s 679ms/step - loss: 0.2859 - accuracy: 0.9353 - precision: 0.9250 - recall: 0.8770 - False Negative: 548.0000 - False Positif: 317.0000 - True Positif: 3909.0000 - True Negative: 8597.0000 - MSE: 0.0509\n",
            "Epoch 9/10\n",
            "140/140 [==============================] - 94s 674ms/step - loss: 0.2766 - accuracy: 0.9420 - precision: 0.9315 - recall: 0.8914 - False Negative: 484.0000 - False Positif: 292.0000 - True Positif: 3973.0000 - True Negative: 8622.0000 - MSE: 0.0482\n",
            "Epoch 10/10\n",
            "140/140 [==============================] - 96s 685ms/step - loss: 0.2719 - accuracy: 0.9377 - precision: 0.9294 - recall: 0.8800 - False Negative: 535.0000 - False Positif: 298.0000 - True Positif: 3922.0000 - True Negative: 8616.0000 - MSE: 0.0490\n"
          ]
        },
        {
          "output_type": "execute_result",
          "data": {
            "text/plain": [
              "<keras.callbacks.History at 0x7f7fb05b9290>"
            ]
          },
          "metadata": {},
          "execution_count": 180
        }
      ]
    },
    {
      "cell_type": "code",
      "source": [
        "model3.evaluate(X_test2,y_test2)"
      ],
      "metadata": {
        "colab": {
          "base_uri": "https://localhost:8080/"
        },
        "id": "YOD309JjYpx_",
        "outputId": "b8986a4d-6479-494c-c6a6-36f96c25b68f"
      },
      "execution_count": null,
      "outputs": [
        {
          "output_type": "stream",
          "name": "stdout",
          "text": [
            "35/35 [==============================] - 9s 180ms/step - loss: 0.5174 - accuracy: 0.8978 - precision: 0.8643 - recall: 0.8224 - False Negative: 198.0000 - False Positif: 144.0000 - True Positif: 917.0000 - True Negative: 2086.0000 - MSE: 0.0872\n"
          ]
        },
        {
          "output_type": "execute_result",
          "data": {
            "text/plain": [
              "[0.517366349697113,\n",
              " 0.897757887840271,\n",
              " 0.8642789721488953,\n",
              " 0.8224215507507324,\n",
              " 198.0,\n",
              " 144.0,\n",
              " 917.0,\n",
              " 2086.0,\n",
              " 0.08723127096891403]"
            ]
          },
          "metadata": {},
          "execution_count": 181
        }
      ]
    },
    {
      "cell_type": "markdown",
      "source": [
        "## 10. Klasifikasi Menggunakan Deep Learning Model : Baseline Model"
      ],
      "metadata": {
        "id": "RowoQhegjJBk"
      }
    },
    {
      "cell_type": "code",
      "source": [
        "baseline_data = deep_data.copy()\n",
        "baseline_data.head(2)"
      ],
      "metadata": {
        "colab": {
          "base_uri": "https://localhost:8080/",
          "height": 112
        },
        "id": "oNp-niIb8nt_",
        "outputId": "55687a4e-186a-409e-cb9d-26a451449d04"
      },
      "execution_count": null,
      "outputs": [
        {
          "output_type": "execute_result",
          "data": {
            "text/plain": [
              "                                                                 spell_correction  \\\n",
              "0  go jurong point crazy available bugis great world la buffet cine get amore wat   \n",
              "1  ok lar joking wif oni                                                            \n",
              "\n",
              "   Sentiment Score  Subjectivity  Overall_Sentiment  \n",
              "0  0.2              0.683333      2                  \n",
              "1  0.5              0.500000      2                  "
            ],
            "text/html": [
              "\n",
              "  <div id=\"df-da2f30e5-ca6f-4b2d-865d-515d679e93a5\">\n",
              "    <div class=\"colab-df-container\">\n",
              "      <div>\n",
              "<style scoped>\n",
              "    .dataframe tbody tr th:only-of-type {\n",
              "        vertical-align: middle;\n",
              "    }\n",
              "\n",
              "    .dataframe tbody tr th {\n",
              "        vertical-align: top;\n",
              "    }\n",
              "\n",
              "    .dataframe thead th {\n",
              "        text-align: right;\n",
              "    }\n",
              "</style>\n",
              "<table border=\"1\" class=\"dataframe\">\n",
              "  <thead>\n",
              "    <tr style=\"text-align: right;\">\n",
              "      <th></th>\n",
              "      <th>spell_correction</th>\n",
              "      <th>Sentiment Score</th>\n",
              "      <th>Subjectivity</th>\n",
              "      <th>Overall_Sentiment</th>\n",
              "    </tr>\n",
              "  </thead>\n",
              "  <tbody>\n",
              "    <tr>\n",
              "      <th>0</th>\n",
              "      <td>go jurong point crazy available bugis great world la buffet cine get amore wat</td>\n",
              "      <td>0.2</td>\n",
              "      <td>0.683333</td>\n",
              "      <td>2</td>\n",
              "    </tr>\n",
              "    <tr>\n",
              "      <th>1</th>\n",
              "      <td>ok lar joking wif oni</td>\n",
              "      <td>0.5</td>\n",
              "      <td>0.500000</td>\n",
              "      <td>2</td>\n",
              "    </tr>\n",
              "  </tbody>\n",
              "</table>\n",
              "</div>\n",
              "      <button class=\"colab-df-convert\" onclick=\"convertToInteractive('df-da2f30e5-ca6f-4b2d-865d-515d679e93a5')\"\n",
              "              title=\"Convert this dataframe to an interactive table.\"\n",
              "              style=\"display:none;\">\n",
              "        \n",
              "  <svg xmlns=\"http://www.w3.org/2000/svg\" height=\"24px\"viewBox=\"0 0 24 24\"\n",
              "       width=\"24px\">\n",
              "    <path d=\"M0 0h24v24H0V0z\" fill=\"none\"/>\n",
              "    <path d=\"M18.56 5.44l.94 2.06.94-2.06 2.06-.94-2.06-.94-.94-2.06-.94 2.06-2.06.94zm-11 1L8.5 8.5l.94-2.06 2.06-.94-2.06-.94L8.5 2.5l-.94 2.06-2.06.94zm10 10l.94 2.06.94-2.06 2.06-.94-2.06-.94-.94-2.06-.94 2.06-2.06.94z\"/><path d=\"M17.41 7.96l-1.37-1.37c-.4-.4-.92-.59-1.43-.59-.52 0-1.04.2-1.43.59L10.3 9.45l-7.72 7.72c-.78.78-.78 2.05 0 2.83L4 21.41c.39.39.9.59 1.41.59.51 0 1.02-.2 1.41-.59l7.78-7.78 2.81-2.81c.8-.78.8-2.07 0-2.86zM5.41 20L4 18.59l7.72-7.72 1.47 1.35L5.41 20z\"/>\n",
              "  </svg>\n",
              "      </button>\n",
              "      \n",
              "  <style>\n",
              "    .colab-df-container {\n",
              "      display:flex;\n",
              "      flex-wrap:wrap;\n",
              "      gap: 12px;\n",
              "    }\n",
              "\n",
              "    .colab-df-convert {\n",
              "      background-color: #E8F0FE;\n",
              "      border: none;\n",
              "      border-radius: 50%;\n",
              "      cursor: pointer;\n",
              "      display: none;\n",
              "      fill: #1967D2;\n",
              "      height: 32px;\n",
              "      padding: 0 0 0 0;\n",
              "      width: 32px;\n",
              "    }\n",
              "\n",
              "    .colab-df-convert:hover {\n",
              "      background-color: #E2EBFA;\n",
              "      box-shadow: 0px 1px 2px rgba(60, 64, 67, 0.3), 0px 1px 3px 1px rgba(60, 64, 67, 0.15);\n",
              "      fill: #174EA6;\n",
              "    }\n",
              "\n",
              "    [theme=dark] .colab-df-convert {\n",
              "      background-color: #3B4455;\n",
              "      fill: #D2E3FC;\n",
              "    }\n",
              "\n",
              "    [theme=dark] .colab-df-convert:hover {\n",
              "      background-color: #434B5C;\n",
              "      box-shadow: 0px 1px 3px 1px rgba(0, 0, 0, 0.15);\n",
              "      filter: drop-shadow(0px 1px 2px rgba(0, 0, 0, 0.3));\n",
              "      fill: #FFFFFF;\n",
              "    }\n",
              "  </style>\n",
              "\n",
              "      <script>\n",
              "        const buttonEl =\n",
              "          document.querySelector('#df-da2f30e5-ca6f-4b2d-865d-515d679e93a5 button.colab-df-convert');\n",
              "        buttonEl.style.display =\n",
              "          google.colab.kernel.accessAllowed ? 'block' : 'none';\n",
              "\n",
              "        async function convertToInteractive(key) {\n",
              "          const element = document.querySelector('#df-da2f30e5-ca6f-4b2d-865d-515d679e93a5');\n",
              "          const dataTable =\n",
              "            await google.colab.kernel.invokeFunction('convertToInteractive',\n",
              "                                                     [key], {});\n",
              "          if (!dataTable) return;\n",
              "\n",
              "          const docLinkHtml = 'Like what you see? Visit the ' +\n",
              "            '<a target=\"_blank\" href=https://colab.research.google.com/notebooks/data_table.ipynb>data table notebook</a>'\n",
              "            + ' to learn more about interactive tables.';\n",
              "          element.innerHTML = '';\n",
              "          dataTable['output_type'] = 'display_data';\n",
              "          await google.colab.output.renderOutput(dataTable, element);\n",
              "          const docLink = document.createElement('div');\n",
              "          docLink.innerHTML = docLinkHtml;\n",
              "          element.appendChild(docLink);\n",
              "        }\n",
              "      </script>\n",
              "    </div>\n",
              "  </div>\n",
              "  "
            ]
          },
          "metadata": {},
          "execution_count": 182
        }
      ]
    },
    {
      "cell_type": "code",
      "source": [
        "lb2=LabelEncoder()\n",
        "baseline_data['Overall_Sentiment'] = lb2.fit_transform(baseline_data['Overall_Sentiment'])"
      ],
      "metadata": {
        "id": "592-GlUt_MU3"
      },
      "execution_count": null,
      "outputs": []
    },
    {
      "cell_type": "code",
      "source": [
        "NB_WORDS = 500\n",
        "tokenizer3 = Tokenizer(num_words = NB_WORDS, split = ' ')\n",
        "tokenizer3.fit_on_texts(baseline_data['spell_correction'].values)\n",
        "print('Fitted tokenizer on {} documents'.format(tokenizer3.document_count))\n",
        "print('{} words in dictionary'.format(tokenizer3.num_words))"
      ],
      "metadata": {
        "colab": {
          "base_uri": "https://localhost:8080/"
        },
        "id": "rnlvHzGcm8Kw",
        "outputId": "6a2bad60-d287-49c8-b1e9-3ac240f53329"
      },
      "execution_count": null,
      "outputs": [
        {
          "output_type": "stream",
          "name": "stdout",
          "text": [
            "Fitted tokenizer on 5572 documents\n",
            "500 words in dictionary\n"
          ]
        }
      ]
    },
    {
      "cell_type": "code",
      "source": [
        "baseline_seq = tokenizer1.texts_to_sequences(baseline_data['spell_correction'].values)\n",
        "baseline_seq = pad_sequences(baseline_seq)"
      ],
      "metadata": {
        "id": "MmD_JU2P9vAP"
      },
      "execution_count": null,
      "outputs": []
    },
    {
      "cell_type": "code",
      "source": [
        "baseline_seq"
      ],
      "metadata": {
        "colab": {
          "base_uri": "https://localhost:8080/"
        },
        "id": "DlKOwaIk_zPs",
        "outputId": "4f90b308-3793-435c-d5fb-d1186c34c8bb"
      },
      "execution_count": null,
      "outputs": [
        {
          "output_type": "execute_result",
          "data": {
            "text/plain": [
              "array([[  0,   0,   0, ..., 225,   1,  68],\n",
              "       [  0,   0,   0, ...,   8, 234, 341],\n",
              "       [  0,   0,   0, ...,  26, 212, 275],\n",
              "       ...,\n",
              "       [  0,   0,   0, ...,   0,   0,   0],\n",
              "       [  0,   0,   0, ...,  50, 123,  10],\n",
              "       [  0,   0,   0, ...,   0, 323, 145]], dtype=int32)"
            ]
          },
          "metadata": {},
          "execution_count": 186
        }
      ]
    },
    {
      "cell_type": "code",
      "source": [
        "def one_hot_seq(seqs, nb_features = NB_WORDS):\n",
        "    ohs = np.zeros((len(seqs), nb_features))\n",
        "    for i, s in enumerate(seqs):\n",
        "        ohs[i, s] = 1.\n",
        "    return ohs"
      ],
      "metadata": {
        "id": "tGKE1_dIkaQV"
      },
      "execution_count": null,
      "outputs": []
    },
    {
      "cell_type": "code",
      "source": [
        "X_one_hot_enc = one_hot_seq(baseline_seq)"
      ],
      "metadata": {
        "id": "6gYXdb7ZlgLp"
      },
      "execution_count": null,
      "outputs": []
    },
    {
      "cell_type": "code",
      "source": [
        "X_one_hot_enc"
      ],
      "metadata": {
        "colab": {
          "base_uri": "https://localhost:8080/"
        },
        "id": "Gn_F-bqNnpd7",
        "outputId": "ad75f4b1-1b91-4440-924e-dafae1900dcb"
      },
      "execution_count": null,
      "outputs": [
        {
          "output_type": "execute_result",
          "data": {
            "text/plain": [
              "array([[1., 1., 0., ..., 0., 0., 0.],\n",
              "       [1., 0., 0., ..., 0., 0., 0.],\n",
              "       [1., 0., 0., ..., 0., 0., 0.],\n",
              "       ...,\n",
              "       [1., 0., 0., ..., 0., 0., 0.],\n",
              "       [1., 0., 0., ..., 0., 0., 0.],\n",
              "       [1., 0., 0., ..., 0., 0., 0.]])"
            ]
          },
          "metadata": {},
          "execution_count": 189
        }
      ]
    },
    {
      "cell_type": "code",
      "source": [
        "base_model = Sequential()\n",
        "base_model.add(layers.Dense(64, activation='relu', input_shape=(NB_WORDS,)))\n",
        "base_model.add(layers.Dense(64, activation='relu'))\n",
        "base_model.add(layers.Dense(3, activation='softmax'))\n",
        "base_model.compile(loss = 'categorical_crossentropy', optimizer='adam', metrics = METRICS)\n",
        "print(base_model.summary())"
      ],
      "metadata": {
        "colab": {
          "base_uri": "https://localhost:8080/"
        },
        "id": "WNALA-pGef3e",
        "outputId": "868ec8d3-c4cf-4020-a481-c21e4f1ca2ac"
      },
      "execution_count": null,
      "outputs": [
        {
          "output_type": "stream",
          "name": "stdout",
          "text": [
            "Model: \"sequential_56\"\n",
            "_________________________________________________________________\n",
            " Layer (type)                Output Shape              Param #   \n",
            "=================================================================\n",
            " dense_52 (Dense)            (None, 64)                32064     \n",
            "                                                                 \n",
            " dense_53 (Dense)            (None, 64)                4160      \n",
            "                                                                 \n",
            " dense_54 (Dense)            (None, 3)                 195       \n",
            "                                                                 \n",
            "=================================================================\n",
            "Total params: 36,419\n",
            "Trainable params: 36,419\n",
            "Non-trainable params: 0\n",
            "_________________________________________________________________\n",
            "None\n"
          ]
        }
      ]
    },
    {
      "cell_type": "code",
      "source": [
        "X_train3, X_test3, y_train3, y_test3 = train_test_split(X_one_hot_enc, y, test_size = 0.2, random_state = 42)"
      ],
      "metadata": {
        "id": "7mhWchY9j5IS"
      },
      "execution_count": null,
      "outputs": []
    },
    {
      "cell_type": "code",
      "source": [
        "batch_size = 32\n",
        "base_model.fit(X_train3, y_train3, epochs=10, verbose = 'auto', batch_size = batch_size)"
      ],
      "metadata": {
        "colab": {
          "base_uri": "https://localhost:8080/"
        },
        "id": "u0RrW3-Dm5Bk",
        "outputId": "85d3f155-ed74-4b42-8c46-066851b08cdf"
      },
      "execution_count": null,
      "outputs": [
        {
          "output_type": "stream",
          "name": "stdout",
          "text": [
            "Epoch 1/10\n",
            "140/140 [==============================] - 2s 4ms/step - loss: 0.8792 - accuracy: 0.7748 - precision: 0.8261 - recall: 0.4108 - False Negative: 3283.0000 - False Positif: 482.0000 - True Positif: 2289.0000 - True Negative: 10662.0000 - MSE: 0.1561\n",
            "Epoch 2/10\n",
            "140/140 [==============================] - 0s 3ms/step - loss: 0.4542 - accuracy: 0.9000 - precision: 0.8736 - recall: 0.8185 - False Negative: 809.0000 - False Positif: 528.0000 - True Positif: 3648.0000 - True Negative: 8386.0000 - MSE: 0.0794\n",
            "Epoch 3/10\n",
            "140/140 [==============================] - 0s 3ms/step - loss: 0.3201 - accuracy: 0.9364 - precision: 0.9116 - recall: 0.8959 - False Negative: 464.0000 - False Positif: 387.0000 - True Positif: 3993.0000 - True Negative: 8527.0000 - MSE: 0.0534\n",
            "Epoch 4/10\n",
            "140/140 [==============================] - 0s 3ms/step - loss: 0.2624 - accuracy: 0.9453 - precision: 0.9242 - recall: 0.9107 - False Negative: 398.0000 - False Positif: 333.0000 - True Positif: 4059.0000 - True Negative: 8581.0000 - MSE: 0.0444\n",
            "Epoch 5/10\n",
            "140/140 [==============================] - 0s 3ms/step - loss: 0.2171 - accuracy: 0.9553 - precision: 0.9374 - recall: 0.9278 - False Negative: 322.0000 - False Positif: 276.0000 - True Positif: 4135.0000 - True Negative: 8638.0000 - MSE: 0.0364\n",
            "Epoch 6/10\n",
            "140/140 [==============================] - 0s 3ms/step - loss: 0.1794 - accuracy: 0.9640 - precision: 0.9510 - recall: 0.9405 - False Negative: 265.0000 - False Positif: 216.0000 - True Positif: 4192.0000 - True Negative: 8698.0000 - MSE: 0.0298\n",
            "Epoch 7/10\n",
            "140/140 [==============================] - 0s 3ms/step - loss: 0.1486 - accuracy: 0.9710 - precision: 0.9606 - recall: 0.9520 - False Negative: 214.0000 - False Positif: 174.0000 - True Positif: 4243.0000 - True Negative: 8740.0000 - MSE: 0.0243\n",
            "Epoch 8/10\n",
            "140/140 [==============================] - 0s 3ms/step - loss: 0.1256 - accuracy: 0.9767 - precision: 0.9675 - recall: 0.9623 - False Negative: 168.0000 - False Positif: 144.0000 - True Positif: 4289.0000 - True Negative: 8770.0000 - MSE: 0.0204\n",
            "Epoch 9/10\n",
            "140/140 [==============================] - 0s 3ms/step - loss: 0.1096 - accuracy: 0.9798 - precision: 0.9720 - recall: 0.9672 - False Negative: 146.0000 - False Positif: 124.0000 - True Positif: 4311.0000 - True Negative: 8790.0000 - MSE: 0.0177\n",
            "Epoch 10/10\n",
            "140/140 [==============================] - 0s 3ms/step - loss: 0.0961 - accuracy: 0.9818 - precision: 0.9743 - recall: 0.9708 - False Negative: 130.0000 - False Positif: 114.0000 - True Positif: 4327.0000 - True Negative: 8800.0000 - MSE: 0.0156\n"
          ]
        },
        {
          "output_type": "execute_result",
          "data": {
            "text/plain": [
              "<keras.callbacks.History at 0x7f7fba916050>"
            ]
          },
          "metadata": {},
          "execution_count": 192
        }
      ]
    },
    {
      "cell_type": "code",
      "source": [
        "base_model.evaluate(X_test3,y_test3)"
      ],
      "metadata": {
        "colab": {
          "base_uri": "https://localhost:8080/"
        },
        "id": "L-C9-wsznkqu",
        "outputId": "5822ee84-7e1c-40ab-e30a-b04b1f4e39c0"
      },
      "execution_count": null,
      "outputs": [
        {
          "output_type": "stream",
          "name": "stdout",
          "text": [
            "35/35 [==============================] - 1s 2ms/step - loss: 0.7719 - accuracy: 0.8882 - precision: 0.8377 - recall: 0.8242 - False Negative: 196.0000 - False Positif: 178.0000 - True Positif: 919.0000 - True Negative: 2052.0000 - MSE: 0.0952\n"
          ]
        },
        {
          "output_type": "execute_result",
          "data": {
            "text/plain": [
              "[0.7718842625617981,\n",
              " 0.888191282749176,\n",
              " 0.8377392888069153,\n",
              " 0.8242152333259583,\n",
              " 196.0,\n",
              " 178.0,\n",
              " 919.0,\n",
              " 2052.0,\n",
              " 0.09522343426942825]"
            ]
          },
          "metadata": {},
          "execution_count": 193
        }
      ]
    },
    {
      "cell_type": "markdown",
      "source": [
        "## 10. Klasifikasi Menggunakan Deep Learning Model : Baseline Model Optimasi"
      ],
      "metadata": {
        "id": "HifHvfLSJ_Dt"
      }
    },
    {
      "cell_type": "code",
      "source": [
        "# mengurangi 1 layer dan mengurangi hidden element\n",
        "base_model_optimasi1 = Sequential()\n",
        "base_model_optimasi1.add(layers.Dense(32, activation='relu', input_shape=(NB_WORDS,)))\n",
        "base_model_optimasi1.add(layers.Dense(3, activation='softmax'))\n",
        "base_model_optimasi1.compile(loss = 'categorical_crossentropy', optimizer='adam', metrics = METRICS)\n",
        "print(base_model_optimasi1.summary())"
      ],
      "metadata": {
        "colab": {
          "base_uri": "https://localhost:8080/"
        },
        "id": "_3-ZY_MMKF63",
        "outputId": "716c7956-e7bf-4243-d2cd-885668b2f97a"
      },
      "execution_count": null,
      "outputs": [
        {
          "output_type": "stream",
          "name": "stdout",
          "text": [
            "Model: \"sequential_57\"\n",
            "_________________________________________________________________\n",
            " Layer (type)                Output Shape              Param #   \n",
            "=================================================================\n",
            " dense_55 (Dense)            (None, 32)                16032     \n",
            "                                                                 \n",
            " dense_56 (Dense)            (None, 3)                 99        \n",
            "                                                                 \n",
            "=================================================================\n",
            "Total params: 16,131\n",
            "Trainable params: 16,131\n",
            "Non-trainable params: 0\n",
            "_________________________________________________________________\n",
            "None\n"
          ]
        }
      ]
    },
    {
      "cell_type": "code",
      "source": [
        "batch_size = 32\n",
        "base_model_optimasi1.fit(X_train3, y_train3, epochs=10, verbose = 'auto', batch_size = batch_size)"
      ],
      "metadata": {
        "colab": {
          "base_uri": "https://localhost:8080/"
        },
        "id": "o4mEQUbrK6lo",
        "outputId": "adb87076-8e27-4ae6-8789-e97744707dac"
      },
      "execution_count": null,
      "outputs": [
        {
          "output_type": "stream",
          "name": "stdout",
          "text": [
            "Epoch 1/10\n",
            "140/140 [==============================] - 2s 3ms/step - loss: 0.9277 - accuracy: 0.7566 - precision: 0.8462 - recall: 0.3299 - False Negative: 3734.0000 - False Positif: 334.0000 - True Positif: 1838.0000 - True Negative: 10810.0000 - MSE: 0.1660\n",
            "Epoch 2/10\n",
            "140/140 [==============================] - 0s 3ms/step - loss: 0.6623 - accuracy: 0.8581 - precision: 0.8507 - recall: 0.6967 - False Negative: 1352.0000 - False Positif: 545.0000 - True Positif: 3105.0000 - True Negative: 8369.0000 - MSE: 0.1222\n",
            "Epoch 3/10\n",
            "140/140 [==============================] - 0s 3ms/step - loss: 0.4905 - accuracy: 0.9015 - precision: 0.8844 - recall: 0.8104 - False Negative: 845.0000 - False Positif: 472.0000 - True Positif: 3612.0000 - True Negative: 8442.0000 - MSE: 0.0854\n",
            "Epoch 4/10\n",
            "140/140 [==============================] - 0s 3ms/step - loss: 0.4015 - accuracy: 0.9227 - precision: 0.9004 - recall: 0.8638 - False Negative: 607.0000 - False Positif: 426.0000 - True Positif: 3850.0000 - True Negative: 8488.0000 - MSE: 0.0677\n",
            "Epoch 5/10\n",
            "140/140 [==============================] - 0s 3ms/step - loss: 0.3557 - accuracy: 0.9295 - precision: 0.9052 - recall: 0.8809 - False Negative: 531.0000 - False Positif: 411.0000 - True Positif: 3926.0000 - True Negative: 8503.0000 - MSE: 0.0597\n",
            "Epoch 6/10\n",
            "140/140 [==============================] - 0s 3ms/step - loss: 0.3260 - accuracy: 0.9331 - precision: 0.9087 - recall: 0.8887 - False Negative: 496.0000 - False Positif: 398.0000 - True Positif: 3961.0000 - True Negative: 8516.0000 - MSE: 0.0549\n",
            "Epoch 7/10\n",
            "140/140 [==============================] - 0s 3ms/step - loss: 0.3041 - accuracy: 0.9368 - precision: 0.9135 - recall: 0.8952 - False Negative: 467.0000 - False Positif: 378.0000 - True Positif: 3990.0000 - True Negative: 8536.0000 - MSE: 0.0512\n",
            "Epoch 8/10\n",
            "140/140 [==============================] - 0s 3ms/step - loss: 0.2884 - accuracy: 0.9395 - precision: 0.9153 - recall: 0.9020 - False Negative: 437.0000 - False Positif: 372.0000 - True Positif: 4020.0000 - True Negative: 8542.0000 - MSE: 0.0490\n",
            "Epoch 9/10\n",
            "140/140 [==============================] - 0s 3ms/step - loss: 0.2753 - accuracy: 0.9419 - precision: 0.9184 - recall: 0.9062 - False Negative: 418.0000 - False Positif: 359.0000 - True Positif: 4039.0000 - True Negative: 8555.0000 - MSE: 0.0467\n",
            "Epoch 10/10\n",
            "140/140 [==============================] - 0s 3ms/step - loss: 0.2638 - accuracy: 0.9442 - precision: 0.9224 - recall: 0.9091 - False Negative: 405.0000 - False Positif: 341.0000 - True Positif: 4052.0000 - True Negative: 8573.0000 - MSE: 0.0449\n"
          ]
        },
        {
          "output_type": "execute_result",
          "data": {
            "text/plain": [
              "<keras.callbacks.History at 0x7f7fb9d2bcd0>"
            ]
          },
          "metadata": {},
          "execution_count": 195
        }
      ]
    },
    {
      "cell_type": "code",
      "source": [
        "base_model_optimasi1.evaluate(X_test3,y_test3)"
      ],
      "metadata": {
        "colab": {
          "base_uri": "https://localhost:8080/"
        },
        "id": "bcVz-bKRLIC5",
        "outputId": "6a92e8e9-6f0d-4ef6-a57a-47c69e7a86dd"
      },
      "execution_count": null,
      "outputs": [
        {
          "output_type": "stream",
          "name": "stdout",
          "text": [
            "35/35 [==============================] - 1s 2ms/step - loss: 0.5305 - accuracy: 0.8993 - precision: 0.8556 - recall: 0.8395 - False Negative: 179.0000 - False Positif: 158.0000 - True Positif: 936.0000 - True Negative: 2072.0000 - MSE: 0.0846\n"
          ]
        },
        {
          "output_type": "execute_result",
          "data": {
            "text/plain": [
              "[0.5305178165435791,\n",
              " 0.8992526531219482,\n",
              " 0.8555758595466614,\n",
              " 0.8394618630409241,\n",
              " 179.0,\n",
              " 158.0,\n",
              " 936.0,\n",
              " 2072.0,\n",
              " 0.08455228060483932]"
            ]
          },
          "metadata": {},
          "execution_count": 196
        }
      ]
    },
    {
      "cell_type": "code",
      "source": [
        "# menambah layer L2 regulasi\n",
        "base_model_optimasi2 = Sequential()\n",
        "base_model_optimasi2.add(layers.Dense(32, activation='relu', kernel_regularizer=regularizers.l2(0.001), input_shape=(NB_WORDS,)))\n",
        "base_model_optimasi2.add(layers.Dense(32, activation='relu', kernel_regularizer=regularizers.l2(0.001)))\n",
        "base_model_optimasi2.add(layers.Dense(3, activation='softmax'))\n",
        "base_model_optimasi2.compile(loss = 'categorical_crossentropy', optimizer='adam', metrics = METRICS)\n",
        "print(base_model_optimasi2.summary())"
      ],
      "metadata": {
        "colab": {
          "base_uri": "https://localhost:8080/"
        },
        "id": "j7vDAs0ILOuj",
        "outputId": "1d9195c7-f15c-49de-acc2-eac47eeceb21"
      },
      "execution_count": null,
      "outputs": [
        {
          "output_type": "stream",
          "name": "stdout",
          "text": [
            "Model: \"sequential_58\"\n",
            "_________________________________________________________________\n",
            " Layer (type)                Output Shape              Param #   \n",
            "=================================================================\n",
            " dense_57 (Dense)            (None, 32)                16032     \n",
            "                                                                 \n",
            " dense_58 (Dense)            (None, 32)                1056      \n",
            "                                                                 \n",
            " dense_59 (Dense)            (None, 3)                 99        \n",
            "                                                                 \n",
            "=================================================================\n",
            "Total params: 17,187\n",
            "Trainable params: 17,187\n",
            "Non-trainable params: 0\n",
            "_________________________________________________________________\n",
            "None\n"
          ]
        }
      ]
    },
    {
      "cell_type": "code",
      "source": [
        "batch_size = 32\n",
        "base_model_optimasi2.fit(X_train3, y_train3, epochs=10, verbose = 'auto', batch_size = batch_size)"
      ],
      "metadata": {
        "colab": {
          "base_uri": "https://localhost:8080/"
        },
        "id": "o083SKBRNiWD",
        "outputId": "8d81bc8d-e598-4bcf-bde0-feb29f5e8213"
      },
      "execution_count": null,
      "outputs": [
        {
          "output_type": "stream",
          "name": "stdout",
          "text": [
            "Epoch 1/10\n",
            "140/140 [==============================] - 2s 3ms/step - loss: 0.9813 - accuracy: 0.7684 - precision: 0.8232 - recall: 0.3885 - False Negative: 3407.0000 - False Positif: 465.0000 - True Positif: 2165.0000 - True Negative: 10679.0000 - MSE: 0.1605\n",
            "Epoch 2/10\n",
            "140/140 [==============================] - 0s 3ms/step - loss: 0.6218 - accuracy: 0.8736 - precision: 0.8446 - recall: 0.7608 - False Negative: 1066.0000 - False Positif: 624.0000 - True Positif: 3391.0000 - True Negative: 8290.0000 - MSE: 0.0999\n",
            "Epoch 3/10\n",
            "140/140 [==============================] - 0s 4ms/step - loss: 0.4664 - accuracy: 0.9207 - precision: 0.8953 - recall: 0.8631 - False Negative: 610.0000 - False Positif: 450.0000 - True Positif: 3847.0000 - True Negative: 8464.0000 - MSE: 0.0670\n",
            "Epoch 4/10\n",
            "140/140 [==============================] - 0s 3ms/step - loss: 0.4085 - accuracy: 0.9309 - precision: 0.9030 - recall: 0.8880 - False Negative: 499.0000 - False Positif: 425.0000 - True Positif: 3958.0000 - True Negative: 8489.0000 - MSE: 0.0562\n",
            "Epoch 5/10\n",
            "140/140 [==============================] - 0s 3ms/step - loss: 0.3786 - accuracy: 0.9376 - precision: 0.9127 - recall: 0.8988 - False Negative: 451.0000 - False Positif: 383.0000 - True Positif: 4006.0000 - True Negative: 8531.0000 - MSE: 0.0508\n",
            "Epoch 6/10\n",
            "140/140 [==============================] - 0s 3ms/step - loss: 0.3593 - accuracy: 0.9413 - precision: 0.9182 - recall: 0.9044 - False Negative: 426.0000 - False Positif: 359.0000 - True Positif: 4031.0000 - True Negative: 8555.0000 - MSE: 0.0474\n",
            "Epoch 7/10\n",
            "140/140 [==============================] - 0s 3ms/step - loss: 0.3407 - accuracy: 0.9485 - precision: 0.9288 - recall: 0.9156 - False Negative: 376.0000 - False Positif: 313.0000 - True Positif: 4081.0000 - True Negative: 8601.0000 - MSE: 0.0434\n",
            "Epoch 8/10\n",
            "140/140 [==============================] - 0s 3ms/step - loss: 0.3272 - accuracy: 0.9508 - precision: 0.9332 - recall: 0.9181 - False Negative: 365.0000 - False Positif: 293.0000 - True Positif: 4092.0000 - True Negative: 8621.0000 - MSE: 0.0411\n",
            "Epoch 9/10\n",
            "140/140 [==============================] - 0s 3ms/step - loss: 0.3143 - accuracy: 0.9524 - precision: 0.9345 - recall: 0.9217 - False Negative: 349.0000 - False Positif: 288.0000 - True Positif: 4108.0000 - True Negative: 8626.0000 - MSE: 0.0387\n",
            "Epoch 10/10\n",
            "140/140 [==============================] - 0s 3ms/step - loss: 0.3017 - accuracy: 0.9559 - precision: 0.9393 - recall: 0.9278 - False Negative: 322.0000 - False Positif: 267.0000 - True Positif: 4135.0000 - True Negative: 8647.0000 - MSE: 0.0361\n"
          ]
        },
        {
          "output_type": "execute_result",
          "data": {
            "text/plain": [
              "<keras.callbacks.History at 0x7f7fb8642e10>"
            ]
          },
          "metadata": {},
          "execution_count": 198
        }
      ]
    },
    {
      "cell_type": "code",
      "source": [
        "base_model_optimasi2.evaluate(X_test3,y_test3)"
      ],
      "metadata": {
        "colab": {
          "base_uri": "https://localhost:8080/"
        },
        "id": "s3JXppCoOL5T",
        "outputId": "5c4fb7f7-1f05-43f3-fc6d-794f02a6b38c"
      },
      "execution_count": null,
      "outputs": [
        {
          "output_type": "stream",
          "name": "stdout",
          "text": [
            "35/35 [==============================] - 1s 3ms/step - loss: 0.6529 - accuracy: 0.8909 - precision: 0.8415 - recall: 0.8287 - False Negative: 191.0000 - False Positif: 174.0000 - True Positif: 924.0000 - True Negative: 2056.0000 - MSE: 0.0895\n"
          ]
        },
        {
          "output_type": "execute_result",
          "data": {
            "text/plain": [
              "[0.6529471278190613,\n",
              " 0.8908818960189819,\n",
              " 0.8415300250053406,\n",
              " 0.82869952917099,\n",
              " 191.0,\n",
              " 174.0,\n",
              " 924.0,\n",
              " 2056.0,\n",
              " 0.08954577893018723]"
            ]
          },
          "metadata": {},
          "execution_count": 199
        }
      ]
    },
    {
      "cell_type": "markdown",
      "source": [
        "## 11. Klasifikasi Menggunakan Deep Learning Model : Baseline LSTM"
      ],
      "metadata": {
        "id": "zggb-Uw0WrQ9"
      }
    },
    {
      "cell_type": "code",
      "source": [
        "model_lstm_baseline = Sequential()\n",
        "model_lstm_baseline.add(Embedding(500, 120, input_length = X.shape[1]))\n",
        "model_lstm_baseline.add(LSTM(176, dropout=0.2, recurrent_dropout=0.2, return_sequences=True))\n",
        "model_lstm_baseline.add(LSTM(64,dropout=0.5, recurrent_dropout=0.5,return_sequences=False))\n",
        "model_lstm_baseline.add(Dense(3,activation='softmax'))\n",
        "model_lstm_baseline.add(Flatten())\n",
        "model_lstm_baseline.compile(loss = 'categorical_crossentropy', optimizer='adam', metrics = METRICS)\n",
        "print(model_lstm_baseline.summary())"
      ],
      "metadata": {
        "id": "3kb_ImvEeKh4",
        "colab": {
          "base_uri": "https://localhost:8080/"
        },
        "outputId": "36c09236-12ba-4e33-f7f4-1a20637ddc37"
      },
      "execution_count": null,
      "outputs": [
        {
          "output_type": "stream",
          "name": "stdout",
          "text": [
            "Model: \"sequential_59\"\n",
            "_________________________________________________________________\n",
            " Layer (type)                Output Shape              Param #   \n",
            "=================================================================\n",
            " embedding_43 (Embedding)    (None, 53, 120)           60000     \n",
            "                                                                 \n",
            " lstm_21 (LSTM)              (None, 53, 176)           209088    \n",
            "                                                                 \n",
            " lstm_22 (LSTM)              (None, 64)                61696     \n",
            "                                                                 \n",
            " dense_60 (Dense)            (None, 3)                 195       \n",
            "                                                                 \n",
            " flatten_26 (Flatten)        (None, 3)                 0         \n",
            "                                                                 \n",
            "=================================================================\n",
            "Total params: 330,979\n",
            "Trainable params: 330,979\n",
            "Non-trainable params: 0\n",
            "_________________________________________________________________\n",
            "None\n"
          ]
        }
      ]
    },
    {
      "cell_type": "code",
      "source": [
        "batch_size=32\n",
        "model_lstm_baseline.fit(X_train2, y_train2, epochs = 10, batch_size=batch_size, verbose = 'auto')"
      ],
      "metadata": {
        "colab": {
          "base_uri": "https://localhost:8080/"
        },
        "id": "yKxRFyhfX0hh",
        "outputId": "34fe1741-c9a5-4dc9-f089-a38c0842abd7"
      },
      "execution_count": null,
      "outputs": [
        {
          "output_type": "stream",
          "name": "stdout",
          "text": [
            "Epoch 1/10\n",
            "140/140 [==============================] - 57s 352ms/step - loss: 0.8171 - accuracy: 0.7948 - precision: 0.7475 - recall: 0.5806 - False Negative: 2337.0000 - False Positif: 1093.0000 - True Positif: 3235.0000 - True Negative: 10051.0000 - MSE: 0.1444\n",
            "Epoch 2/10\n",
            "140/140 [==============================] - 50s 354ms/step - loss: 0.4739 - accuracy: 0.8957 - precision: 0.8654 - recall: 0.8136 - False Negative: 831.0000 - False Positif: 564.0000 - True Positif: 3626.0000 - True Negative: 8350.0000 - MSE: 0.0831\n",
            "Epoch 3/10\n",
            "140/140 [==============================] - 49s 353ms/step - loss: 0.3640 - accuracy: 0.9252 - precision: 0.8958 - recall: 0.8777 - False Negative: 545.0000 - False Positif: 455.0000 - True Positif: 3912.0000 - True Negative: 8459.0000 - MSE: 0.0617\n",
            "Epoch 4/10\n",
            "140/140 [==============================] - 50s 357ms/step - loss: 0.3387 - accuracy: 0.9291 - precision: 0.8999 - recall: 0.8858 - False Negative: 509.0000 - False Positif: 439.0000 - True Positif: 3948.0000 - True Negative: 8475.0000 - MSE: 0.0575\n",
            "Epoch 5/10\n",
            "140/140 [==============================] - 50s 354ms/step - loss: 0.3212 - accuracy: 0.9319 - precision: 0.9032 - recall: 0.8914 - False Negative: 484.0000 - False Positif: 426.0000 - True Positif: 3973.0000 - True Negative: 8488.0000 - MSE: 0.0548\n",
            "Epoch 6/10\n",
            "140/140 [==============================] - 49s 352ms/step - loss: 0.3099 - accuracy: 0.9358 - precision: 0.9091 - recall: 0.8972 - False Negative: 458.0000 - False Positif: 400.0000 - True Positif: 3999.0000 - True Negative: 8514.0000 - MSE: 0.0528\n",
            "Epoch 7/10\n",
            "140/140 [==============================] - 50s 354ms/step - loss: 0.2960 - accuracy: 0.9381 - precision: 0.9127 - recall: 0.9004 - False Negative: 444.0000 - False Positif: 384.0000 - True Positif: 4013.0000 - True Negative: 8530.0000 - MSE: 0.0504\n",
            "Epoch 8/10\n",
            "140/140 [==============================] - 49s 353ms/step - loss: 0.2820 - accuracy: 0.9411 - precision: 0.9169 - recall: 0.9055 - False Negative: 421.0000 - False Positif: 366.0000 - True Positif: 4036.0000 - True Negative: 8548.0000 - MSE: 0.0476\n",
            "Epoch 9/10\n",
            "140/140 [==============================] - 50s 356ms/step - loss: 0.2640 - accuracy: 0.9466 - precision: 0.9239 - recall: 0.9152 - False Negative: 378.0000 - False Positif: 336.0000 - True Positif: 4079.0000 - True Negative: 8578.0000 - MSE: 0.0442\n",
            "Epoch 10/10\n",
            "140/140 [==============================] - 51s 368ms/step - loss: 0.2571 - accuracy: 0.9453 - precision: 0.9228 - recall: 0.9123 - False Negative: 391.0000 - False Positif: 340.0000 - True Positif: 4066.0000 - True Negative: 8574.0000 - MSE: 0.0438\n"
          ]
        },
        {
          "output_type": "execute_result",
          "data": {
            "text/plain": [
              "<keras.callbacks.History at 0x7f7face82b50>"
            ]
          },
          "metadata": {},
          "execution_count": 201
        }
      ]
    },
    {
      "cell_type": "code",
      "source": [
        "model_lstm_baseline.evaluate(X_test2, y_test2)"
      ],
      "metadata": {
        "colab": {
          "base_uri": "https://localhost:8080/"
        },
        "id": "jw9jkJURYFVV",
        "outputId": "1d88c987-e93b-4610-ce88-c562a60c4a69"
      },
      "execution_count": null,
      "outputs": [
        {
          "output_type": "stream",
          "name": "stdout",
          "text": [
            "35/35 [==============================] - 3s 47ms/step - loss: 0.5609 - accuracy: 0.8969 - precision: 0.8526 - recall: 0.8350 - False Negative: 184.0000 - False Positif: 161.0000 - True Positif: 931.0000 - True Negative: 2069.0000 - MSE: 0.0890\n"
          ]
        },
        {
          "output_type": "execute_result",
          "data": {
            "text/plain": [
              "[0.5608978867530823,\n",
              " 0.8968610167503357,\n",
              " 0.8525640964508057,\n",
              " 0.8349775671958923,\n",
              " 184.0,\n",
              " 161.0,\n",
              " 931.0,\n",
              " 2069.0,\n",
              " 0.08904077857732773]"
            ]
          },
          "metadata": {},
          "execution_count": 202
        }
      ]
    },
    {
      "cell_type": "markdown",
      "source": [
        "## 12. Klasifikasi Menggunakan Deep Learning Model : CCN"
      ],
      "metadata": {
        "id": "sCQaShbraOjf"
      }
    },
    {
      "cell_type": "code",
      "source": [
        "model_cnn = Sequential()\n",
        "model_cnn.add(Embedding(500, 120, input_length=NB_WORDS))\n",
        "model_cnn.add(Dropout(0.2))\n",
        "model_cnn.add(Conv1D(64,kernel_size=3,padding='same',activation='relu',strides=1))\n",
        "model_cnn.add(GlobalMaxPooling1D())\n",
        "model_cnn.add(Dropout(0.2))\n",
        "model_cnn.add(Dense(128,activation='relu'))\n",
        "model_cnn.add(Dense(3,activation='softmax'))\n",
        "model_cnn.add(Flatten())\n",
        "model_cnn.compile(loss = 'categorical_crossentropy', optimizer='adam', metrics = METRICS)\n",
        "model_cnn.summary()"
      ],
      "metadata": {
        "colab": {
          "base_uri": "https://localhost:8080/"
        },
        "id": "E9Zi1aplaDn2",
        "outputId": "4b809206-3f57-4384-c685-85a55d451add"
      },
      "execution_count": null,
      "outputs": [
        {
          "output_type": "stream",
          "name": "stdout",
          "text": [
            "Model: \"sequential_60\"\n",
            "_________________________________________________________________\n",
            " Layer (type)                Output Shape              Param #   \n",
            "=================================================================\n",
            " embedding_44 (Embedding)    (None, 500, 120)          60000     \n",
            "                                                                 \n",
            " dropout_46 (Dropout)        (None, 500, 120)          0         \n",
            "                                                                 \n",
            " conv1d_25 (Conv1D)          (None, 500, 64)           23104     \n",
            "                                                                 \n",
            " global_max_pooling1d_13 (Gl  (None, 64)               0         \n",
            " obalMaxPooling1D)                                               \n",
            "                                                                 \n",
            " dropout_47 (Dropout)        (None, 64)                0         \n",
            "                                                                 \n",
            " dense_61 (Dense)            (None, 128)               8320      \n",
            "                                                                 \n",
            " dense_62 (Dense)            (None, 3)                 387       \n",
            "                                                                 \n",
            " flatten_27 (Flatten)        (None, 3)                 0         \n",
            "                                                                 \n",
            "=================================================================\n",
            "Total params: 91,811\n",
            "Trainable params: 91,811\n",
            "Non-trainable params: 0\n",
            "_________________________________________________________________\n"
          ]
        }
      ]
    },
    {
      "cell_type": "code",
      "source": [
        "batch_size=32\n",
        "model_cnn.fit(X_train3, y_train3, epochs = 10, batch_size=batch_size, verbose = 'auto')"
      ],
      "metadata": {
        "colab": {
          "base_uri": "https://localhost:8080/"
        },
        "id": "5fmo8N7Qag4c",
        "outputId": "b8bf74a7-9ea8-4eba-97eb-321ec6bc7a5e"
      },
      "execution_count": null,
      "outputs": [
        {
          "output_type": "stream",
          "name": "stdout",
          "text": [
            "Epoch 1/10\n",
            "140/140 [==============================] - 16s 103ms/step - loss: 0.9998 - accuracy: 0.7121 - precision: 0.7742 - recall: 0.1926 - False Negative: 4499.0000 - False Positif: 313.0000 - True Positif: 1073.0000 - True Negative: 10831.0000 - MSE: 0.1803\n",
            "Epoch 2/10\n",
            "140/140 [==============================] - 14s 103ms/step - loss: 0.9852 - accuracy: 0.6735 - precision: 0.5399 - recall: 0.1380 - False Negative: 3842.0000 - False Positif: 524.0000 - True Positif: 615.0000 - True Negative: 8390.0000 - MSE: 0.1995\n",
            "Epoch 3/10\n",
            "140/140 [==============================] - 14s 102ms/step - loss: 0.9777 - accuracy: 0.6801 - precision: 0.5503 - recall: 0.2197 - False Negative: 3478.0000 - False Positif: 800.0000 - True Positif: 979.0000 - True Negative: 8114.0000 - MSE: 0.1977\n",
            "Epoch 4/10\n",
            "140/140 [==============================] - 14s 102ms/step - loss: 0.9776 - accuracy: 0.6792 - precision: 0.5491 - recall: 0.2096 - False Negative: 3523.0000 - False Positif: 767.0000 - True Positif: 934.0000 - True Negative: 8147.0000 - MSE: 0.1976\n",
            "Epoch 5/10\n",
            "140/140 [==============================] - 14s 101ms/step - loss: 0.9773 - accuracy: 0.6776 - precision: 0.5389 - recall: 0.2268 - False Negative: 3446.0000 - False Positif: 865.0000 - True Positif: 1011.0000 - True Negative: 8049.0000 - MSE: 0.1975\n",
            "Epoch 6/10\n",
            "140/140 [==============================] - 14s 102ms/step - loss: 0.9703 - accuracy: 0.6857 - precision: 0.5640 - recall: 0.2522 - False Negative: 3333.0000 - False Positif: 869.0000 - True Positif: 1124.0000 - True Negative: 8045.0000 - MSE: 0.1955\n",
            "Epoch 7/10\n",
            "140/140 [==============================] - 14s 102ms/step - loss: 0.9693 - accuracy: 0.6870 - precision: 0.5643 - recall: 0.2677 - False Negative: 3264.0000 - False Positif: 921.0000 - True Positif: 1193.0000 - True Negative: 7993.0000 - MSE: 0.1954\n",
            "Epoch 8/10\n",
            "140/140 [==============================] - 14s 103ms/step - loss: 0.9655 - accuracy: 0.6868 - precision: 0.5617 - recall: 0.2746 - False Negative: 3233.0000 - False Positif: 955.0000 - True Positif: 1224.0000 - True Negative: 7959.0000 - MSE: 0.1943\n",
            "Epoch 9/10\n",
            "140/140 [==============================] - 14s 101ms/step - loss: 0.9605 - accuracy: 0.6939 - precision: 0.5784 - recall: 0.3013 - False Negative: 3114.0000 - False Positif: 979.0000 - True Positif: 1343.0000 - True Negative: 7935.0000 - MSE: 0.1931\n",
            "Epoch 10/10\n",
            "140/140 [==============================] - 14s 101ms/step - loss: 0.9582 - accuracy: 0.6952 - precision: 0.5805 - recall: 0.3083 - False Negative: 3083.0000 - False Positif: 993.0000 - True Positif: 1374.0000 - True Negative: 7921.0000 - MSE: 0.1926\n"
          ]
        },
        {
          "output_type": "execute_result",
          "data": {
            "text/plain": [
              "<keras.callbacks.History at 0x7f7faba42fd0>"
            ]
          },
          "metadata": {},
          "execution_count": 204
        }
      ]
    },
    {
      "cell_type": "code",
      "source": [
        "model_cnn.evaluate(X_test3, y_test3)"
      ],
      "metadata": {
        "colab": {
          "base_uri": "https://localhost:8080/"
        },
        "id": "88GDZNaAd9Lu",
        "outputId": "c3a1a7f7-7ed7-4701-f7f3-78d705000db9"
      },
      "execution_count": null,
      "outputs": [
        {
          "output_type": "stream",
          "name": "stdout",
          "text": [
            "35/35 [==============================] - 2s 23ms/step - loss: 0.9899 - accuracy: 0.6735 - precision: 0.8108 - recall: 0.0269 - False Negative: 1085.0000 - False Positif: 7.0000 - True Positif: 30.0000 - True Negative: 2223.0000 - MSE: 0.2006\n"
          ]
        },
        {
          "output_type": "execute_result",
          "data": {
            "text/plain": [
              "[0.989867091178894,\n",
              " 0.6735425591468811,\n",
              " 0.8108108043670654,\n",
              " 0.026905829086899757,\n",
              " 1085.0,\n",
              " 7.0,\n",
              " 30.0,\n",
              " 2223.0,\n",
              " 0.20063547790050507]"
            ]
          },
          "metadata": {},
          "execution_count": 205
        }
      ]
    },
    {
      "cell_type": "markdown",
      "source": [
        "## 13. Klasifikasi Menggunakan Deep Learning Model : CNN Optimasi"
      ],
      "metadata": {
        "id": "z0z47zYrBJN_"
      }
    },
    {
      "cell_type": "code",
      "source": [
        "model_cnn_optimasi1 = Sequential()\n",
        "model_cnn_optimasi1.add(Embedding(500, 120, input_length=NB_WORDS))\n",
        "model_cnn_optimasi1.add(Conv1D(64,kernel_size=3,padding='same',activation='relu',strides=1))\n",
        "model_cnn_optimasi1.add(MaxPooling1D(pool_size=2))\n",
        "model_cnn_optimasi1.add(Dropout(0.25))\n",
        "model_cnn_optimasi1.add(GRU(128,return_sequences=True))\n",
        "model_cnn_optimasi1.add(Flatten())\n",
        "model_cnn_optimasi1.add(Dense(128,activation='relu'))\n",
        "model_cnn_optimasi1.add(Dropout(0.5))\n",
        "model_cnn_optimasi1.add(Dense(3,activation='softmax'))\n",
        "model_cnn_optimasi1.compile(loss = 'categorical_crossentropy', optimizer='adam', metrics = METRICS)\n",
        "model_cnn_optimasi1.summary()"
      ],
      "metadata": {
        "colab": {
          "base_uri": "https://localhost:8080/"
        },
        "id": "QloBZowN5xCx",
        "outputId": "9ccec8d6-1ede-4d1b-8a73-b6189cc3a4e0"
      },
      "execution_count": null,
      "outputs": [
        {
          "output_type": "stream",
          "name": "stdout",
          "text": [
            "Model: \"sequential_61\"\n",
            "_________________________________________________________________\n",
            " Layer (type)                Output Shape              Param #   \n",
            "=================================================================\n",
            " embedding_45 (Embedding)    (None, 500, 120)          60000     \n",
            "                                                                 \n",
            " conv1d_26 (Conv1D)          (None, 500, 64)           23104     \n",
            "                                                                 \n",
            " max_pooling1d_7 (MaxPooling  (None, 250, 64)          0         \n",
            " 1D)                                                             \n",
            "                                                                 \n",
            " dropout_48 (Dropout)        (None, 250, 64)           0         \n",
            "                                                                 \n",
            " gru_12 (GRU)                (None, 250, 128)          74496     \n",
            "                                                                 \n",
            " flatten_28 (Flatten)        (None, 32000)             0         \n",
            "                                                                 \n",
            " dense_63 (Dense)            (None, 128)               4096128   \n",
            "                                                                 \n",
            " dropout_49 (Dropout)        (None, 128)               0         \n",
            "                                                                 \n",
            " dense_64 (Dense)            (None, 3)                 387       \n",
            "                                                                 \n",
            "=================================================================\n",
            "Total params: 4,254,115\n",
            "Trainable params: 4,254,115\n",
            "Non-trainable params: 0\n",
            "_________________________________________________________________\n"
          ]
        }
      ]
    },
    {
      "cell_type": "code",
      "source": [
        "batch_size=32\n",
        "history = model_cnn_optimasi1.fit(X_train3, y_train3, epochs = 10, batch_size=batch_size, verbose = 'auto')"
      ],
      "metadata": {
        "colab": {
          "base_uri": "https://localhost:8080/"
        },
        "id": "DjBGbXQuC46I",
        "outputId": "6996d715-b50e-48b6-e498-98bffe18f360"
      },
      "execution_count": null,
      "outputs": [
        {
          "output_type": "stream",
          "name": "stdout",
          "text": [
            "Epoch 1/10\n",
            "140/140 [==============================] - 52s 340ms/step - loss: 0.9069 - accuracy: 0.7175 - precision: 0.6592 - recall: 0.3159 - False Negative: 3812.0000 - False Positif: 910.0000 - True Positif: 1760.0000 - True Negative: 10234.0000 - MSE: 0.1837\n",
            "Epoch 2/10\n",
            "140/140 [==============================] - 48s 342ms/step - loss: 0.6130 - accuracy: 0.8472 - precision: 0.8040 - recall: 0.7162 - False Negative: 1265.0000 - False Positif: 778.0000 - True Positif: 3192.0000 - True Negative: 8136.0000 - MSE: 0.1128\n",
            "Epoch 3/10\n",
            "140/140 [==============================] - 48s 345ms/step - loss: 0.4446 - accuracy: 0.9021 - precision: 0.8697 - recall: 0.8308 - False Negative: 754.0000 - False Positif: 555.0000 - True Positif: 3703.0000 - True Negative: 8359.0000 - MSE: 0.0776\n",
            "Epoch 4/10\n",
            "140/140 [==============================] - 49s 347ms/step - loss: 0.3574 - accuracy: 0.9212 - precision: 0.8927 - recall: 0.8678 - False Negative: 589.0000 - False Positif: 465.0000 - True Positif: 3868.0000 - True Negative: 8449.0000 - MSE: 0.0621\n",
            "Epoch 5/10\n",
            "140/140 [==============================] - 48s 345ms/step - loss: 0.2969 - accuracy: 0.9329 - precision: 0.9118 - recall: 0.8842 - False Negative: 516.0000 - False Positif: 381.0000 - True Positif: 3941.0000 - True Negative: 8533.0000 - MSE: 0.0524\n",
            "Epoch 6/10\n",
            "140/140 [==============================] - 48s 343ms/step - loss: 0.2627 - accuracy: 0.9390 - precision: 0.9169 - recall: 0.8986 - False Negative: 452.0000 - False Positif: 363.0000 - True Positif: 4005.0000 - True Negative: 8551.0000 - MSE: 0.0467\n",
            "Epoch 7/10\n",
            "140/140 [==============================] - 48s 342ms/step - loss: 0.2378 - accuracy: 0.9481 - precision: 0.9281 - recall: 0.9152 - False Negative: 378.0000 - False Positif: 316.0000 - True Positif: 4079.0000 - True Negative: 8598.0000 - MSE: 0.0409\n",
            "Epoch 8/10\n",
            "140/140 [==============================] - 48s 342ms/step - loss: 0.2083 - accuracy: 0.9518 - precision: 0.9322 - recall: 0.9224 - False Negative: 346.0000 - False Positif: 299.0000 - True Positif: 4111.0000 - True Negative: 8615.0000 - MSE: 0.0371\n",
            "Epoch 9/10\n",
            "140/140 [==============================] - 48s 343ms/step - loss: 0.2013 - accuracy: 0.9577 - precision: 0.9423 - recall: 0.9302 - False Negative: 311.0000 - False Positif: 254.0000 - True Positif: 4146.0000 - True Negative: 8660.0000 - MSE: 0.0338\n",
            "Epoch 10/10\n",
            "140/140 [==============================] - 48s 345ms/step - loss: 0.1994 - accuracy: 0.9566 - precision: 0.9405 - recall: 0.9287 - False Negative: 318.0000 - False Positif: 262.0000 - True Positif: 4139.0000 - True Negative: 8652.0000 - MSE: 0.0343\n"
          ]
        }
      ]
    },
    {
      "cell_type": "code",
      "source": [
        "model_cnn_optimasi1.evaluate(X_test3, y_test3)"
      ],
      "metadata": {
        "colab": {
          "base_uri": "https://localhost:8080/"
        },
        "id": "BF1CXC9BEZ1q",
        "outputId": "290b21da-adf4-4009-a345-9b72e18fb06c"
      },
      "execution_count": null,
      "outputs": [
        {
          "output_type": "stream",
          "name": "stdout",
          "text": [
            "35/35 [==============================] - 4s 83ms/step - loss: 0.6750 - accuracy: 0.8873 - precision: 0.8373 - recall: 0.8215 - False Negative: 199.0000 - False Positif: 178.0000 - True Positif: 916.0000 - True Negative: 2052.0000 - MSE: 0.0914\n"
          ]
        },
        {
          "output_type": "execute_result",
          "data": {
            "text/plain": [
              "[0.6750272512435913,\n",
              " 0.887294352054596,\n",
              " 0.837294340133667,\n",
              " 0.8215246796607971,\n",
              " 199.0,\n",
              " 178.0,\n",
              " 916.0,\n",
              " 2052.0,\n",
              " 0.09138578921556473]"
            ]
          },
          "metadata": {},
          "execution_count": 208
        }
      ]
    }
  ],
  "metadata": {
    "colab": {
      "name": "Ruled_based_polarity_and_Deep_Learning_sentiment_classification_NLP.ipynb",
      "provenance": [],
      "collapsed_sections": [],
      "toc_visible": true,
      "authorship_tag": "ABX9TyM8uOUwQgPCt5/DnzEy6b0e",
      "include_colab_link": true
    },
    "kernelspec": {
      "display_name": "Python 3",
      "name": "python3"
    },
    "language_info": {
      "name": "python"
    }
  },
  "nbformat": 4,
  "nbformat_minor": 0
}